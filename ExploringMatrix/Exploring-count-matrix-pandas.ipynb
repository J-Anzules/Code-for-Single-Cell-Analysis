{
 "cells": [
  {
   "cell_type": "code",
   "execution_count": 1,
   "id": "5adde575",
   "metadata": {
    "scrolled": false
   },
   "outputs": [],
   "source": [
    "import pandas as pd\n",
    "import seaborn as sns\n",
    "import numpy as np\n",
    "import matplotlib.pyplot as plt\n",
    "\n",
    "from sklearn.decomposition import PCA\n",
    "from sklearn.preprocessing import StandardScaler\n",
    "from sklearn.cluster import KMeans"
   ]
  },
  {
   "cell_type": "code",
   "execution_count": 2,
   "id": "ba3488bc",
   "metadata": {},
   "outputs": [
    {
     "name": "stdout",
     "output_type": "stream",
     "text": [
      "Shape of raw matrix: (40605, 656)\n",
      "Shape of matrix without rows that have all zeros (29141, 656)\n"
     ]
    }
   ],
   "source": [
    "ctMatrix = pd.read_csv(\"../../Data/FirstCountMatrix.csv\", sep = \",\",\n",
    "                        index_col= 0)\n",
    "\n",
    "print(f'Shape of raw matrix: {ctMatrix.shape}')\n",
    "\n",
    "# Cleaning the matrix of rows with all zeros\n",
    "ctMatrix_clean = ctMatrix[(ctMatrix == 0).sum(axis =1) != ctMatrix.shape[1]]\n",
    "\n",
    "print(f\"Shape of matrix without rows that have all zeros {ctMatrix_clean.shape}\")\n"
   ]
  },
  {
   "cell_type": "code",
   "execution_count": 3,
   "id": "9160419f",
   "metadata": {},
   "outputs": [
    {
     "data": {
      "text/plain": [
       "count      656.000000\n",
       "mean     22139.722561\n",
       "std        975.498757\n",
       "min      20258.000000\n",
       "25%      21410.000000\n",
       "50%      22049.500000\n",
       "75%      22772.000000\n",
       "max      24620.000000\n",
       "dtype: float64"
      ]
     },
     "execution_count": 3,
     "metadata": {},
     "output_type": "execute_result"
    }
   ],
   "source": [
    "(ctMatrix_clean == 0).sum().describe()"
   ]
  },
  {
   "cell_type": "code",
   "execution_count": 5,
   "id": "535e0695",
   "metadata": {},
   "outputs": [
    {
     "name": "stdout",
     "output_type": "stream",
     "text": [
      "Q1 value: 21410.0\n",
      "Q3 value: 22772.0\n",
      "IQR value: 1362.0\n",
      "upper bounds value: 24815.0\n"
     ]
    }
   ],
   "source": [
    "# getting rid of outliers\n",
    "\n",
    "zeros_per_column = (ctMatrix_clean == 0).sum()\n",
    "\n",
    "Q1 = zeros_per_column.quantile(0.25)\n",
    "Q3 = zeros_per_column.quantile(0.75)\n",
    "\n",
    "IQR = Q3 - Q1\n",
    "# Selecting the range based on Tukey's method assumption\n",
    "\n",
    "#lower_bounds = we want to remove only the cells that have a lot of zeros\n",
    "upper_bounds = Q3 + (1.5 * IQR)\n",
    "\n",
    "print(f'Q1 value: {Q1}')\n",
    "print(f'Q3 value: {Q3}')\n",
    "print(f'IQR value: {IQR}')\n",
    "print(f'upper bounds value: {upper_bounds}')\n",
    "\n",
    "ctMatrix_cleanTest = ctMatrix_clean.loc[:, (ctMatrix_clean == 0).sum() < upper_bounds]\n",
    "\n",
    "# There are no columns that have zeros count outside of the upper bounds range"
   ]
  },
  {
   "cell_type": "code",
   "execution_count": 6,
   "id": "c0d6ec64",
   "metadata": {},
   "outputs": [
    {
     "data": {
      "text/plain": [
       "(29141, 656)"
      ]
     },
     "execution_count": 6,
     "metadata": {},
     "output_type": "execute_result"
    }
   ],
   "source": [
    "ctMatrix_cleanTest.shape"
   ]
  },
  {
   "cell_type": "code",
   "execution_count": 103,
   "id": "ba85e1e0",
   "metadata": {},
   "outputs": [
    {
     "data": {
      "text/plain": [
       "20258.0"
      ]
     },
     "execution_count": 103,
     "metadata": {},
     "output_type": "execute_result"
    }
   ],
   "source": [
    "Q1"
   ]
  },
  {
   "cell_type": "code",
   "execution_count": 8,
   "id": "1e8f7bf9",
   "metadata": {},
   "outputs": [
    {
     "data": {
      "text/plain": [
       "count    29141.000000\n",
       "mean       498.392574\n",
       "std        191.228655\n",
       "min          0.000000\n",
       "25%        381.000000\n",
       "50%        597.000000\n",
       "75%        651.000000\n",
       "max        655.000000\n",
       "dtype: float64"
      ]
     },
     "execution_count": 8,
     "metadata": {},
     "output_type": "execute_result"
    }
   ],
   "source": [
    "(ctMatrix_clean == 0).sum(axis = 0).describe()"
   ]
  },
  {
   "cell_type": "code",
   "execution_count": 91,
   "id": "ba41413e",
   "metadata": {},
   "outputs": [
    {
     "data": {
      "text/plain": [
       "629485.932"
      ]
     },
     "execution_count": 91,
     "metadata": {},
     "output_type": "execute_result"
    }
   ],
   "source": [
    "Q1"
   ]
  },
  {
   "cell_type": "code",
   "execution_count": 69,
   "id": "db2c2657",
   "metadata": {},
   "outputs": [
    {
     "name": "stdout",
     "output_type": "stream",
     "text": [
      "Threshold for rows: 4060.5\n",
      "Threshold for column: 590.4\n"
     ]
    }
   ],
   "source": [
    "# Removing rows and columns that have 90% zeros\n",
    "row_threshold = 0.1 * ctMatrix.shape[0]\n",
    "column_threshold = 0.9 * ctMatrix.shape[1]\n",
    "\n",
    "print(f\"Threshold for rows: {row_threshold}\")\n",
    "print(f\"Threshold for column: {column_threshold}\")\n"
   ]
  },
  {
   "cell_type": "code",
   "execution_count": 74,
   "id": "aa631262",
   "metadata": {},
   "outputs": [
    {
     "data": {
      "text/plain": [
       "count      656.000000\n",
       "mean     33603.722561\n",
       "std        975.498757\n",
       "min      31722.000000\n",
       "25%      32874.000000\n",
       "50%      33513.500000\n",
       "75%      34236.000000\n",
       "max      36084.000000\n",
       "dtype: float64"
      ]
     },
     "execution_count": 74,
     "metadata": {},
     "output_type": "execute_result"
    }
   ],
   "source": [
    "(ctMatrix == 0).sum().describe()"
   ]
  },
  {
   "cell_type": "code",
   "execution_count": 75,
   "id": "2cd06b65",
   "metadata": {},
   "outputs": [
    {
     "data": {
      "text/plain": [
       "count    40605.000000\n",
       "mean       542.889841\n",
       "std        176.853086\n",
       "min          0.000000\n",
       "25%        483.000000\n",
       "50%        648.000000\n",
       "75%        656.000000\n",
       "max        656.000000\n",
       "dtype: float64"
      ]
     },
     "execution_count": 75,
     "metadata": {},
     "output_type": "execute_result"
    }
   ],
   "source": [
    "(ctMatrix == 0).sum(axis = 1).describe()"
   ]
  },
  {
   "cell_type": "code",
   "execution_count": null,
   "id": "adcfb94f",
   "metadata": {},
   "outputs": [],
   "source": []
  },
  {
   "cell_type": "code",
   "execution_count": 76,
   "id": "ae6f67b5",
   "metadata": {},
   "outputs": [
    {
     "data": {
      "text/html": [
       "<div>\n",
       "<style scoped>\n",
       "    .dataframe tbody tr th:only-of-type {\n",
       "        vertical-align: middle;\n",
       "    }\n",
       "\n",
       "    .dataframe tbody tr th {\n",
       "        vertical-align: top;\n",
       "    }\n",
       "\n",
       "    .dataframe thead th {\n",
       "        text-align: right;\n",
       "    }\n",
       "</style>\n",
       "<table border=\"1\" class=\"dataframe\">\n",
       "  <thead>\n",
       "    <tr style=\"text-align: right;\">\n",
       "      <th></th>\n",
       "      <th>073A01</th>\n",
       "      <th>073A02</th>\n",
       "      <th>073A03</th>\n",
       "      <th>073A04</th>\n",
       "      <th>073A06</th>\n",
       "      <th>073A08</th>\n",
       "      <th>073A10</th>\n",
       "      <th>073A12</th>\n",
       "      <th>073A18</th>\n",
       "      <th>073A19</th>\n",
       "      <th>...</th>\n",
       "      <th>090P13</th>\n",
       "      <th>090P15</th>\n",
       "      <th>090P16</th>\n",
       "      <th>090P17</th>\n",
       "      <th>090P18</th>\n",
       "      <th>090P19</th>\n",
       "      <th>090P20</th>\n",
       "      <th>090P21</th>\n",
       "      <th>090P22</th>\n",
       "      <th>090P23</th>\n",
       "    </tr>\n",
       "  </thead>\n",
       "  <tbody>\n",
       "    <tr>\n",
       "      <th>TSPAN6</th>\n",
       "      <td>0.000</td>\n",
       "      <td>0.000</td>\n",
       "      <td>0.000</td>\n",
       "      <td>0.000</td>\n",
       "      <td>0.000</td>\n",
       "      <td>0.000</td>\n",
       "      <td>0.000</td>\n",
       "      <td>2.000</td>\n",
       "      <td>6.078</td>\n",
       "      <td>3.000</td>\n",
       "      <td>...</td>\n",
       "      <td>1.008</td>\n",
       "      <td>0.0</td>\n",
       "      <td>0.000</td>\n",
       "      <td>1.001</td>\n",
       "      <td>1.000</td>\n",
       "      <td>0.000</td>\n",
       "      <td>0.000</td>\n",
       "      <td>0.000</td>\n",
       "      <td>1.000</td>\n",
       "      <td>0.000</td>\n",
       "    </tr>\n",
       "    <tr>\n",
       "      <th>TNMD</th>\n",
       "      <td>0.000</td>\n",
       "      <td>0.000</td>\n",
       "      <td>0.000</td>\n",
       "      <td>0.000</td>\n",
       "      <td>0.000</td>\n",
       "      <td>0.000</td>\n",
       "      <td>0.000</td>\n",
       "      <td>0.000</td>\n",
       "      <td>0.000</td>\n",
       "      <td>0.000</td>\n",
       "      <td>...</td>\n",
       "      <td>0.000</td>\n",
       "      <td>0.0</td>\n",
       "      <td>0.000</td>\n",
       "      <td>0.000</td>\n",
       "      <td>0.000</td>\n",
       "      <td>0.000</td>\n",
       "      <td>0.000</td>\n",
       "      <td>0.000</td>\n",
       "      <td>0.000</td>\n",
       "      <td>0.000</td>\n",
       "    </tr>\n",
       "    <tr>\n",
       "      <th>DPM1</th>\n",
       "      <td>3.093</td>\n",
       "      <td>7.505</td>\n",
       "      <td>3.000</td>\n",
       "      <td>23.000</td>\n",
       "      <td>34.000</td>\n",
       "      <td>1.000</td>\n",
       "      <td>3.703</td>\n",
       "      <td>70.007</td>\n",
       "      <td>42.804</td>\n",
       "      <td>3.097</td>\n",
       "      <td>...</td>\n",
       "      <td>292.645</td>\n",
       "      <td>0.0</td>\n",
       "      <td>18.159</td>\n",
       "      <td>9.170</td>\n",
       "      <td>103.000</td>\n",
       "      <td>15.793</td>\n",
       "      <td>1.900</td>\n",
       "      <td>188.000</td>\n",
       "      <td>7.972</td>\n",
       "      <td>1.000</td>\n",
       "    </tr>\n",
       "    <tr>\n",
       "      <th>SCYL3</th>\n",
       "      <td>1.000</td>\n",
       "      <td>0.000</td>\n",
       "      <td>0.000</td>\n",
       "      <td>0.000</td>\n",
       "      <td>12.000</td>\n",
       "      <td>1.001</td>\n",
       "      <td>6.018</td>\n",
       "      <td>0.000</td>\n",
       "      <td>0.000</td>\n",
       "      <td>0.000</td>\n",
       "      <td>...</td>\n",
       "      <td>1.003</td>\n",
       "      <td>0.0</td>\n",
       "      <td>0.000</td>\n",
       "      <td>1.003</td>\n",
       "      <td>0.000</td>\n",
       "      <td>0.000</td>\n",
       "      <td>2.082</td>\n",
       "      <td>2.003</td>\n",
       "      <td>4.007</td>\n",
       "      <td>3.992</td>\n",
       "    </tr>\n",
       "    <tr>\n",
       "      <th>C1orf112</th>\n",
       "      <td>0.000</td>\n",
       "      <td>0.000</td>\n",
       "      <td>0.000</td>\n",
       "      <td>2.000</td>\n",
       "      <td>0.000</td>\n",
       "      <td>1.000</td>\n",
       "      <td>0.000</td>\n",
       "      <td>0.000</td>\n",
       "      <td>0.000</td>\n",
       "      <td>0.000</td>\n",
       "      <td>...</td>\n",
       "      <td>0.000</td>\n",
       "      <td>0.0</td>\n",
       "      <td>0.000</td>\n",
       "      <td>0.000</td>\n",
       "      <td>0.000</td>\n",
       "      <td>0.000</td>\n",
       "      <td>0.000</td>\n",
       "      <td>0.000</td>\n",
       "      <td>0.000</td>\n",
       "      <td>0.000</td>\n",
       "    </tr>\n",
       "    <tr>\n",
       "      <th>...</th>\n",
       "      <td>...</td>\n",
       "      <td>...</td>\n",
       "      <td>...</td>\n",
       "      <td>...</td>\n",
       "      <td>...</td>\n",
       "      <td>...</td>\n",
       "      <td>...</td>\n",
       "      <td>...</td>\n",
       "      <td>...</td>\n",
       "      <td>...</td>\n",
       "      <td>...</td>\n",
       "      <td>...</td>\n",
       "      <td>...</td>\n",
       "      <td>...</td>\n",
       "      <td>...</td>\n",
       "      <td>...</td>\n",
       "      <td>...</td>\n",
       "      <td>...</td>\n",
       "      <td>...</td>\n",
       "      <td>...</td>\n",
       "      <td>...</td>\n",
       "    </tr>\n",
       "    <tr>\n",
       "      <th>SOD2</th>\n",
       "      <td>64.623</td>\n",
       "      <td>299.582</td>\n",
       "      <td>169.784</td>\n",
       "      <td>74.582</td>\n",
       "      <td>67.815</td>\n",
       "      <td>137.103</td>\n",
       "      <td>130.354</td>\n",
       "      <td>63.790</td>\n",
       "      <td>194.203</td>\n",
       "      <td>95.906</td>\n",
       "      <td>...</td>\n",
       "      <td>202.958</td>\n",
       "      <td>190.7</td>\n",
       "      <td>159.273</td>\n",
       "      <td>260.861</td>\n",
       "      <td>213.245</td>\n",
       "      <td>272.367</td>\n",
       "      <td>130.918</td>\n",
       "      <td>111.632</td>\n",
       "      <td>59.120</td>\n",
       "      <td>253.057</td>\n",
       "    </tr>\n",
       "    <tr>\n",
       "      <th>POLGARF</th>\n",
       "      <td>0.000</td>\n",
       "      <td>0.000</td>\n",
       "      <td>0.000</td>\n",
       "      <td>0.000</td>\n",
       "      <td>0.000</td>\n",
       "      <td>0.000</td>\n",
       "      <td>0.000</td>\n",
       "      <td>0.000</td>\n",
       "      <td>0.000</td>\n",
       "      <td>0.000</td>\n",
       "      <td>...</td>\n",
       "      <td>0.000</td>\n",
       "      <td>0.0</td>\n",
       "      <td>0.000</td>\n",
       "      <td>0.000</td>\n",
       "      <td>0.000</td>\n",
       "      <td>0.000</td>\n",
       "      <td>0.000</td>\n",
       "      <td>0.000</td>\n",
       "      <td>0.000</td>\n",
       "      <td>0.000</td>\n",
       "    </tr>\n",
       "    <tr>\n",
       "      <th>LY6S</th>\n",
       "      <td>0.000</td>\n",
       "      <td>0.000</td>\n",
       "      <td>0.000</td>\n",
       "      <td>0.000</td>\n",
       "      <td>0.000</td>\n",
       "      <td>0.000</td>\n",
       "      <td>0.000</td>\n",
       "      <td>0.000</td>\n",
       "      <td>0.000</td>\n",
       "      <td>0.000</td>\n",
       "      <td>...</td>\n",
       "      <td>0.000</td>\n",
       "      <td>0.0</td>\n",
       "      <td>0.000</td>\n",
       "      <td>0.000</td>\n",
       "      <td>0.000</td>\n",
       "      <td>0.000</td>\n",
       "      <td>0.000</td>\n",
       "      <td>0.000</td>\n",
       "      <td>0.000</td>\n",
       "      <td>0.000</td>\n",
       "    </tr>\n",
       "    <tr>\n",
       "      <th>TMEM276</th>\n",
       "      <td>0.000</td>\n",
       "      <td>0.000</td>\n",
       "      <td>0.000</td>\n",
       "      <td>0.000</td>\n",
       "      <td>74.000</td>\n",
       "      <td>0.000</td>\n",
       "      <td>0.000</td>\n",
       "      <td>0.000</td>\n",
       "      <td>0.000</td>\n",
       "      <td>0.000</td>\n",
       "      <td>...</td>\n",
       "      <td>0.000</td>\n",
       "      <td>0.0</td>\n",
       "      <td>2.474</td>\n",
       "      <td>0.000</td>\n",
       "      <td>0.000</td>\n",
       "      <td>0.000</td>\n",
       "      <td>207.000</td>\n",
       "      <td>353.000</td>\n",
       "      <td>178.491</td>\n",
       "      <td>0.000</td>\n",
       "    </tr>\n",
       "    <tr>\n",
       "      <th>ADIPINT</th>\n",
       "      <td>2.005</td>\n",
       "      <td>3.097</td>\n",
       "      <td>0.000</td>\n",
       "      <td>0.000</td>\n",
       "      <td>4.000</td>\n",
       "      <td>0.000</td>\n",
       "      <td>0.000</td>\n",
       "      <td>0.000</td>\n",
       "      <td>0.000</td>\n",
       "      <td>0.000</td>\n",
       "      <td>...</td>\n",
       "      <td>0.000</td>\n",
       "      <td>0.0</td>\n",
       "      <td>0.000</td>\n",
       "      <td>0.868</td>\n",
       "      <td>2.000</td>\n",
       "      <td>5.012</td>\n",
       "      <td>0.000</td>\n",
       "      <td>4.006</td>\n",
       "      <td>0.000</td>\n",
       "      <td>0.000</td>\n",
       "    </tr>\n",
       "  </tbody>\n",
       "</table>\n",
       "<p>40605 rows × 656 columns</p>\n",
       "</div>"
      ],
      "text/plain": [
       "          073A01   073A02   073A03  073A04  073A06   073A08   073A10  073A12  \\\n",
       "TSPAN6     0.000    0.000    0.000   0.000   0.000    0.000    0.000   2.000   \n",
       "TNMD       0.000    0.000    0.000   0.000   0.000    0.000    0.000   0.000   \n",
       "DPM1       3.093    7.505    3.000  23.000  34.000    1.000    3.703  70.007   \n",
       "SCYL3      1.000    0.000    0.000   0.000  12.000    1.001    6.018   0.000   \n",
       "C1orf112   0.000    0.000    0.000   2.000   0.000    1.000    0.000   0.000   \n",
       "...          ...      ...      ...     ...     ...      ...      ...     ...   \n",
       "SOD2      64.623  299.582  169.784  74.582  67.815  137.103  130.354  63.790   \n",
       "POLGARF    0.000    0.000    0.000   0.000   0.000    0.000    0.000   0.000   \n",
       "LY6S       0.000    0.000    0.000   0.000   0.000    0.000    0.000   0.000   \n",
       "TMEM276    0.000    0.000    0.000   0.000  74.000    0.000    0.000   0.000   \n",
       "ADIPINT    2.005    3.097    0.000   0.000   4.000    0.000    0.000   0.000   \n",
       "\n",
       "           073A18  073A19  ...   090P13  090P15   090P16   090P17   090P18  \\\n",
       "TSPAN6      6.078   3.000  ...    1.008     0.0    0.000    1.001    1.000   \n",
       "TNMD        0.000   0.000  ...    0.000     0.0    0.000    0.000    0.000   \n",
       "DPM1       42.804   3.097  ...  292.645     0.0   18.159    9.170  103.000   \n",
       "SCYL3       0.000   0.000  ...    1.003     0.0    0.000    1.003    0.000   \n",
       "C1orf112    0.000   0.000  ...    0.000     0.0    0.000    0.000    0.000   \n",
       "...           ...     ...  ...      ...     ...      ...      ...      ...   \n",
       "SOD2      194.203  95.906  ...  202.958   190.7  159.273  260.861  213.245   \n",
       "POLGARF     0.000   0.000  ...    0.000     0.0    0.000    0.000    0.000   \n",
       "LY6S        0.000   0.000  ...    0.000     0.0    0.000    0.000    0.000   \n",
       "TMEM276     0.000   0.000  ...    0.000     0.0    2.474    0.000    0.000   \n",
       "ADIPINT     0.000   0.000  ...    0.000     0.0    0.000    0.868    2.000   \n",
       "\n",
       "           090P19   090P20   090P21   090P22   090P23  \n",
       "TSPAN6      0.000    0.000    0.000    1.000    0.000  \n",
       "TNMD        0.000    0.000    0.000    0.000    0.000  \n",
       "DPM1       15.793    1.900  188.000    7.972    1.000  \n",
       "SCYL3       0.000    2.082    2.003    4.007    3.992  \n",
       "C1orf112    0.000    0.000    0.000    0.000    0.000  \n",
       "...           ...      ...      ...      ...      ...  \n",
       "SOD2      272.367  130.918  111.632   59.120  253.057  \n",
       "POLGARF     0.000    0.000    0.000    0.000    0.000  \n",
       "LY6S        0.000    0.000    0.000    0.000    0.000  \n",
       "TMEM276     0.000  207.000  353.000  178.491    0.000  \n",
       "ADIPINT     5.012    0.000    4.006    0.000    0.000  \n",
       "\n",
       "[40605 rows x 656 columns]"
      ]
     },
     "execution_count": 76,
     "metadata": {},
     "output_type": "execute_result"
    }
   ],
   "source": [
    "ctMatrix.loc[(ctMatrix==0).sum(axis = 1) < row_threshold]"
   ]
  },
  {
   "cell_type": "code",
   "execution_count": 85,
   "id": "e0feeeec",
   "metadata": {},
   "outputs": [
    {
     "data": {
      "text/html": [
       "<div>\n",
       "<style scoped>\n",
       "    .dataframe tbody tr th:only-of-type {\n",
       "        vertical-align: middle;\n",
       "    }\n",
       "\n",
       "    .dataframe tbody tr th {\n",
       "        vertical-align: top;\n",
       "    }\n",
       "\n",
       "    .dataframe thead th {\n",
       "        text-align: right;\n",
       "    }\n",
       "</style>\n",
       "<table border=\"1\" class=\"dataframe\">\n",
       "  <thead>\n",
       "    <tr style=\"text-align: right;\">\n",
       "      <th></th>\n",
       "      <th>073A01</th>\n",
       "      <th>073A02</th>\n",
       "      <th>073A03</th>\n",
       "      <th>073A04</th>\n",
       "      <th>073A06</th>\n",
       "      <th>073A08</th>\n",
       "      <th>073A10</th>\n",
       "      <th>073A12</th>\n",
       "      <th>073A18</th>\n",
       "      <th>073A19</th>\n",
       "      <th>...</th>\n",
       "      <th>090P13</th>\n",
       "      <th>090P15</th>\n",
       "      <th>090P16</th>\n",
       "      <th>090P17</th>\n",
       "      <th>090P18</th>\n",
       "      <th>090P19</th>\n",
       "      <th>090P20</th>\n",
       "      <th>090P21</th>\n",
       "      <th>090P22</th>\n",
       "      <th>090P23</th>\n",
       "    </tr>\n",
       "  </thead>\n",
       "  <tbody>\n",
       "    <tr>\n",
       "      <th>TSPAN6</th>\n",
       "      <td>0.000</td>\n",
       "      <td>0.000</td>\n",
       "      <td>0.000</td>\n",
       "      <td>0.000</td>\n",
       "      <td>0.000</td>\n",
       "      <td>0.000</td>\n",
       "      <td>0.000</td>\n",
       "      <td>2.000</td>\n",
       "      <td>6.078</td>\n",
       "      <td>3.000</td>\n",
       "      <td>...</td>\n",
       "      <td>1.008</td>\n",
       "      <td>0.0</td>\n",
       "      <td>0.000</td>\n",
       "      <td>1.001</td>\n",
       "      <td>1.000</td>\n",
       "      <td>0.000</td>\n",
       "      <td>0.000</td>\n",
       "      <td>0.000</td>\n",
       "      <td>1.000</td>\n",
       "      <td>0.000</td>\n",
       "    </tr>\n",
       "    <tr>\n",
       "      <th>DPM1</th>\n",
       "      <td>3.093</td>\n",
       "      <td>7.505</td>\n",
       "      <td>3.000</td>\n",
       "      <td>23.000</td>\n",
       "      <td>34.000</td>\n",
       "      <td>1.000</td>\n",
       "      <td>3.703</td>\n",
       "      <td>70.007</td>\n",
       "      <td>42.804</td>\n",
       "      <td>3.097</td>\n",
       "      <td>...</td>\n",
       "      <td>292.645</td>\n",
       "      <td>0.0</td>\n",
       "      <td>18.159</td>\n",
       "      <td>9.170</td>\n",
       "      <td>103.000</td>\n",
       "      <td>15.793</td>\n",
       "      <td>1.900</td>\n",
       "      <td>188.000</td>\n",
       "      <td>7.972</td>\n",
       "      <td>1.000</td>\n",
       "    </tr>\n",
       "    <tr>\n",
       "      <th>SCYL3</th>\n",
       "      <td>1.000</td>\n",
       "      <td>0.000</td>\n",
       "      <td>0.000</td>\n",
       "      <td>0.000</td>\n",
       "      <td>12.000</td>\n",
       "      <td>1.001</td>\n",
       "      <td>6.018</td>\n",
       "      <td>0.000</td>\n",
       "      <td>0.000</td>\n",
       "      <td>0.000</td>\n",
       "      <td>...</td>\n",
       "      <td>1.003</td>\n",
       "      <td>0.0</td>\n",
       "      <td>0.000</td>\n",
       "      <td>1.003</td>\n",
       "      <td>0.000</td>\n",
       "      <td>0.000</td>\n",
       "      <td>2.082</td>\n",
       "      <td>2.003</td>\n",
       "      <td>4.007</td>\n",
       "      <td>3.992</td>\n",
       "    </tr>\n",
       "    <tr>\n",
       "      <th>C1orf112</th>\n",
       "      <td>0.000</td>\n",
       "      <td>0.000</td>\n",
       "      <td>0.000</td>\n",
       "      <td>2.000</td>\n",
       "      <td>0.000</td>\n",
       "      <td>1.000</td>\n",
       "      <td>0.000</td>\n",
       "      <td>0.000</td>\n",
       "      <td>0.000</td>\n",
       "      <td>0.000</td>\n",
       "      <td>...</td>\n",
       "      <td>0.000</td>\n",
       "      <td>0.0</td>\n",
       "      <td>0.000</td>\n",
       "      <td>0.000</td>\n",
       "      <td>0.000</td>\n",
       "      <td>0.000</td>\n",
       "      <td>0.000</td>\n",
       "      <td>0.000</td>\n",
       "      <td>0.000</td>\n",
       "      <td>0.000</td>\n",
       "    </tr>\n",
       "    <tr>\n",
       "      <th>FGR</th>\n",
       "      <td>0.000</td>\n",
       "      <td>0.000</td>\n",
       "      <td>0.000</td>\n",
       "      <td>0.000</td>\n",
       "      <td>0.000</td>\n",
       "      <td>0.000</td>\n",
       "      <td>0.000</td>\n",
       "      <td>0.000</td>\n",
       "      <td>0.000</td>\n",
       "      <td>0.000</td>\n",
       "      <td>...</td>\n",
       "      <td>0.000</td>\n",
       "      <td>0.0</td>\n",
       "      <td>0.000</td>\n",
       "      <td>0.000</td>\n",
       "      <td>0.000</td>\n",
       "      <td>0.000</td>\n",
       "      <td>0.000</td>\n",
       "      <td>0.000</td>\n",
       "      <td>0.000</td>\n",
       "      <td>0.000</td>\n",
       "    </tr>\n",
       "    <tr>\n",
       "      <th>...</th>\n",
       "      <td>...</td>\n",
       "      <td>...</td>\n",
       "      <td>...</td>\n",
       "      <td>...</td>\n",
       "      <td>...</td>\n",
       "      <td>...</td>\n",
       "      <td>...</td>\n",
       "      <td>...</td>\n",
       "      <td>...</td>\n",
       "      <td>...</td>\n",
       "      <td>...</td>\n",
       "      <td>...</td>\n",
       "      <td>...</td>\n",
       "      <td>...</td>\n",
       "      <td>...</td>\n",
       "      <td>...</td>\n",
       "      <td>...</td>\n",
       "      <td>...</td>\n",
       "      <td>...</td>\n",
       "      <td>...</td>\n",
       "      <td>...</td>\n",
       "    </tr>\n",
       "    <tr>\n",
       "      <th>MRPL45P2</th>\n",
       "      <td>0.000</td>\n",
       "      <td>69.396</td>\n",
       "      <td>6.990</td>\n",
       "      <td>2.000</td>\n",
       "      <td>0.000</td>\n",
       "      <td>4.261</td>\n",
       "      <td>2.772</td>\n",
       "      <td>5.928</td>\n",
       "      <td>14.976</td>\n",
       "      <td>0.000</td>\n",
       "      <td>...</td>\n",
       "      <td>15.118</td>\n",
       "      <td>1.0</td>\n",
       "      <td>0.000</td>\n",
       "      <td>16.408</td>\n",
       "      <td>1.000</td>\n",
       "      <td>1.862</td>\n",
       "      <td>6.927</td>\n",
       "      <td>0.000</td>\n",
       "      <td>0.000</td>\n",
       "      <td>1.004</td>\n",
       "    </tr>\n",
       "    <tr>\n",
       "      <th>SOD2</th>\n",
       "      <td>64.623</td>\n",
       "      <td>299.582</td>\n",
       "      <td>169.784</td>\n",
       "      <td>74.582</td>\n",
       "      <td>67.815</td>\n",
       "      <td>137.103</td>\n",
       "      <td>130.354</td>\n",
       "      <td>63.790</td>\n",
       "      <td>194.203</td>\n",
       "      <td>95.906</td>\n",
       "      <td>...</td>\n",
       "      <td>202.958</td>\n",
       "      <td>190.7</td>\n",
       "      <td>159.273</td>\n",
       "      <td>260.861</td>\n",
       "      <td>213.245</td>\n",
       "      <td>272.367</td>\n",
       "      <td>130.918</td>\n",
       "      <td>111.632</td>\n",
       "      <td>59.120</td>\n",
       "      <td>253.057</td>\n",
       "    </tr>\n",
       "    <tr>\n",
       "      <th>POLGARF</th>\n",
       "      <td>0.000</td>\n",
       "      <td>0.000</td>\n",
       "      <td>0.000</td>\n",
       "      <td>0.000</td>\n",
       "      <td>0.000</td>\n",
       "      <td>0.000</td>\n",
       "      <td>0.000</td>\n",
       "      <td>0.000</td>\n",
       "      <td>0.000</td>\n",
       "      <td>0.000</td>\n",
       "      <td>...</td>\n",
       "      <td>0.000</td>\n",
       "      <td>0.0</td>\n",
       "      <td>0.000</td>\n",
       "      <td>0.000</td>\n",
       "      <td>0.000</td>\n",
       "      <td>0.000</td>\n",
       "      <td>0.000</td>\n",
       "      <td>0.000</td>\n",
       "      <td>0.000</td>\n",
       "      <td>0.000</td>\n",
       "    </tr>\n",
       "    <tr>\n",
       "      <th>TMEM276</th>\n",
       "      <td>0.000</td>\n",
       "      <td>0.000</td>\n",
       "      <td>0.000</td>\n",
       "      <td>0.000</td>\n",
       "      <td>74.000</td>\n",
       "      <td>0.000</td>\n",
       "      <td>0.000</td>\n",
       "      <td>0.000</td>\n",
       "      <td>0.000</td>\n",
       "      <td>0.000</td>\n",
       "      <td>...</td>\n",
       "      <td>0.000</td>\n",
       "      <td>0.0</td>\n",
       "      <td>2.474</td>\n",
       "      <td>0.000</td>\n",
       "      <td>0.000</td>\n",
       "      <td>0.000</td>\n",
       "      <td>207.000</td>\n",
       "      <td>353.000</td>\n",
       "      <td>178.491</td>\n",
       "      <td>0.000</td>\n",
       "    </tr>\n",
       "    <tr>\n",
       "      <th>ADIPINT</th>\n",
       "      <td>2.005</td>\n",
       "      <td>3.097</td>\n",
       "      <td>0.000</td>\n",
       "      <td>0.000</td>\n",
       "      <td>4.000</td>\n",
       "      <td>0.000</td>\n",
       "      <td>0.000</td>\n",
       "      <td>0.000</td>\n",
       "      <td>0.000</td>\n",
       "      <td>0.000</td>\n",
       "      <td>...</td>\n",
       "      <td>0.000</td>\n",
       "      <td>0.0</td>\n",
       "      <td>0.000</td>\n",
       "      <td>0.868</td>\n",
       "      <td>2.000</td>\n",
       "      <td>5.012</td>\n",
       "      <td>0.000</td>\n",
       "      <td>4.006</td>\n",
       "      <td>0.000</td>\n",
       "      <td>0.000</td>\n",
       "    </tr>\n",
       "  </tbody>\n",
       "</table>\n",
       "<p>29141 rows × 656 columns</p>\n",
       "</div>"
      ],
      "text/plain": [
       "          073A01   073A02   073A03  073A04  073A06   073A08   073A10  073A12  \\\n",
       "TSPAN6     0.000    0.000    0.000   0.000   0.000    0.000    0.000   2.000   \n",
       "DPM1       3.093    7.505    3.000  23.000  34.000    1.000    3.703  70.007   \n",
       "SCYL3      1.000    0.000    0.000   0.000  12.000    1.001    6.018   0.000   \n",
       "C1orf112   0.000    0.000    0.000   2.000   0.000    1.000    0.000   0.000   \n",
       "FGR        0.000    0.000    0.000   0.000   0.000    0.000    0.000   0.000   \n",
       "...          ...      ...      ...     ...     ...      ...      ...     ...   \n",
       "MRPL45P2   0.000   69.396    6.990   2.000   0.000    4.261    2.772   5.928   \n",
       "SOD2      64.623  299.582  169.784  74.582  67.815  137.103  130.354  63.790   \n",
       "POLGARF    0.000    0.000    0.000   0.000   0.000    0.000    0.000   0.000   \n",
       "TMEM276    0.000    0.000    0.000   0.000  74.000    0.000    0.000   0.000   \n",
       "ADIPINT    2.005    3.097    0.000   0.000   4.000    0.000    0.000   0.000   \n",
       "\n",
       "           073A18  073A19  ...   090P13  090P15   090P16   090P17   090P18  \\\n",
       "TSPAN6      6.078   3.000  ...    1.008     0.0    0.000    1.001    1.000   \n",
       "DPM1       42.804   3.097  ...  292.645     0.0   18.159    9.170  103.000   \n",
       "SCYL3       0.000   0.000  ...    1.003     0.0    0.000    1.003    0.000   \n",
       "C1orf112    0.000   0.000  ...    0.000     0.0    0.000    0.000    0.000   \n",
       "FGR         0.000   0.000  ...    0.000     0.0    0.000    0.000    0.000   \n",
       "...           ...     ...  ...      ...     ...      ...      ...      ...   \n",
       "MRPL45P2   14.976   0.000  ...   15.118     1.0    0.000   16.408    1.000   \n",
       "SOD2      194.203  95.906  ...  202.958   190.7  159.273  260.861  213.245   \n",
       "POLGARF     0.000   0.000  ...    0.000     0.0    0.000    0.000    0.000   \n",
       "TMEM276     0.000   0.000  ...    0.000     0.0    2.474    0.000    0.000   \n",
       "ADIPINT     0.000   0.000  ...    0.000     0.0    0.000    0.868    2.000   \n",
       "\n",
       "           090P19   090P20   090P21   090P22   090P23  \n",
       "TSPAN6      0.000    0.000    0.000    1.000    0.000  \n",
       "DPM1       15.793    1.900  188.000    7.972    1.000  \n",
       "SCYL3       0.000    2.082    2.003    4.007    3.992  \n",
       "C1orf112    0.000    0.000    0.000    0.000    0.000  \n",
       "FGR         0.000    0.000    0.000    0.000    0.000  \n",
       "...           ...      ...      ...      ...      ...  \n",
       "MRPL45P2    1.862    6.927    0.000    0.000    1.004  \n",
       "SOD2      272.367  130.918  111.632   59.120  253.057  \n",
       "POLGARF     0.000    0.000    0.000    0.000    0.000  \n",
       "TMEM276     0.000  207.000  353.000  178.491    0.000  \n",
       "ADIPINT     5.012    0.000    4.006    0.000    0.000  \n",
       "\n",
       "[29141 rows x 656 columns]"
      ]
     },
     "execution_count": 85,
     "metadata": {},
     "output_type": "execute_result"
    }
   ],
   "source": [
    "ctMatrix_clean[(ctMatrix == 0).sum(axis =1) != ctMatrix.shape[1]]"
   ]
  },
  {
   "cell_type": "code",
   "execution_count": 81,
   "id": "51db3a93",
   "metadata": {},
   "outputs": [
    {
     "data": {
      "text/plain": [
       "073A01    32427\n",
       "073A02    33014\n",
       "073A03    32996\n",
       "073A04    32758\n",
       "073A06    32841\n",
       "          ...  \n",
       "090P19    34040\n",
       "090P20    32413\n",
       "090P21    33702\n",
       "090P22    32880\n",
       "090P23    33945\n",
       "Length: 656, dtype: int64"
      ]
     },
     "execution_count": 81,
     "metadata": {},
     "output_type": "execute_result"
    }
   ],
   "source": [
    "(ctMatrix==0).sum(axis = 0)"
   ]
  },
  {
   "cell_type": "code",
   "execution_count": 80,
   "id": "879148b4",
   "metadata": {
    "scrolled": true
   },
   "outputs": [
    {
     "data": {
      "text/plain": [
       "TSPAN6      439\n",
       "TNMD        656\n",
       "DPM1         65\n",
       "SCYL3       361\n",
       "C1orf112    546\n",
       "           ... \n",
       "SOD2          0\n",
       "POLGARF     654\n",
       "LY6S        656\n",
       "TMEM276     541\n",
       "ADIPINT     465\n",
       "Length: 40605, dtype: int64"
      ]
     },
     "execution_count": 80,
     "metadata": {},
     "output_type": "execute_result"
    }
   ],
   "source": [
    "(ctMatrix == 0).sum(axis = 1)"
   ]
  },
  {
   "cell_type": "code",
   "execution_count": 78,
   "id": "58a42eb5",
   "metadata": {
    "scrolled": true
   },
   "outputs": [
    {
     "data": {
      "text/html": [
       "<div>\n",
       "<style scoped>\n",
       "    .dataframe tbody tr th:only-of-type {\n",
       "        vertical-align: middle;\n",
       "    }\n",
       "\n",
       "    .dataframe tbody tr th {\n",
       "        vertical-align: top;\n",
       "    }\n",
       "\n",
       "    .dataframe thead th {\n",
       "        text-align: right;\n",
       "    }\n",
       "</style>\n",
       "<table border=\"1\" class=\"dataframe\">\n",
       "  <thead>\n",
       "    <tr style=\"text-align: right;\">\n",
       "      <th></th>\n",
       "      <th>073A01</th>\n",
       "      <th>073A02</th>\n",
       "      <th>073A03</th>\n",
       "      <th>073A04</th>\n",
       "      <th>073A06</th>\n",
       "      <th>073A08</th>\n",
       "      <th>073A10</th>\n",
       "      <th>073A12</th>\n",
       "      <th>073A18</th>\n",
       "      <th>073A19</th>\n",
       "      <th>...</th>\n",
       "      <th>090P13</th>\n",
       "      <th>090P15</th>\n",
       "      <th>090P16</th>\n",
       "      <th>090P17</th>\n",
       "      <th>090P18</th>\n",
       "      <th>090P19</th>\n",
       "      <th>090P20</th>\n",
       "      <th>090P21</th>\n",
       "      <th>090P22</th>\n",
       "      <th>090P23</th>\n",
       "    </tr>\n",
       "  </thead>\n",
       "  <tbody>\n",
       "    <tr>\n",
       "      <th>TSPAN6</th>\n",
       "      <td>0.000</td>\n",
       "      <td>0.000</td>\n",
       "      <td>0.000</td>\n",
       "      <td>0.000</td>\n",
       "      <td>0.000</td>\n",
       "      <td>0.000</td>\n",
       "      <td>0.000</td>\n",
       "      <td>2.000</td>\n",
       "      <td>6.078</td>\n",
       "      <td>3.000</td>\n",
       "      <td>...</td>\n",
       "      <td>1.008</td>\n",
       "      <td>0.0</td>\n",
       "      <td>0.000</td>\n",
       "      <td>1.001</td>\n",
       "      <td>1.000</td>\n",
       "      <td>0.000</td>\n",
       "      <td>0.000</td>\n",
       "      <td>0.000</td>\n",
       "      <td>1.000</td>\n",
       "      <td>0.000</td>\n",
       "    </tr>\n",
       "    <tr>\n",
       "      <th>DPM1</th>\n",
       "      <td>3.093</td>\n",
       "      <td>7.505</td>\n",
       "      <td>3.000</td>\n",
       "      <td>23.000</td>\n",
       "      <td>34.000</td>\n",
       "      <td>1.000</td>\n",
       "      <td>3.703</td>\n",
       "      <td>70.007</td>\n",
       "      <td>42.804</td>\n",
       "      <td>3.097</td>\n",
       "      <td>...</td>\n",
       "      <td>292.645</td>\n",
       "      <td>0.0</td>\n",
       "      <td>18.159</td>\n",
       "      <td>9.170</td>\n",
       "      <td>103.000</td>\n",
       "      <td>15.793</td>\n",
       "      <td>1.900</td>\n",
       "      <td>188.000</td>\n",
       "      <td>7.972</td>\n",
       "      <td>1.000</td>\n",
       "    </tr>\n",
       "    <tr>\n",
       "      <th>SCYL3</th>\n",
       "      <td>1.000</td>\n",
       "      <td>0.000</td>\n",
       "      <td>0.000</td>\n",
       "      <td>0.000</td>\n",
       "      <td>12.000</td>\n",
       "      <td>1.001</td>\n",
       "      <td>6.018</td>\n",
       "      <td>0.000</td>\n",
       "      <td>0.000</td>\n",
       "      <td>0.000</td>\n",
       "      <td>...</td>\n",
       "      <td>1.003</td>\n",
       "      <td>0.0</td>\n",
       "      <td>0.000</td>\n",
       "      <td>1.003</td>\n",
       "      <td>0.000</td>\n",
       "      <td>0.000</td>\n",
       "      <td>2.082</td>\n",
       "      <td>2.003</td>\n",
       "      <td>4.007</td>\n",
       "      <td>3.992</td>\n",
       "    </tr>\n",
       "    <tr>\n",
       "      <th>C1orf112</th>\n",
       "      <td>0.000</td>\n",
       "      <td>0.000</td>\n",
       "      <td>0.000</td>\n",
       "      <td>2.000</td>\n",
       "      <td>0.000</td>\n",
       "      <td>1.000</td>\n",
       "      <td>0.000</td>\n",
       "      <td>0.000</td>\n",
       "      <td>0.000</td>\n",
       "      <td>0.000</td>\n",
       "      <td>...</td>\n",
       "      <td>0.000</td>\n",
       "      <td>0.0</td>\n",
       "      <td>0.000</td>\n",
       "      <td>0.000</td>\n",
       "      <td>0.000</td>\n",
       "      <td>0.000</td>\n",
       "      <td>0.000</td>\n",
       "      <td>0.000</td>\n",
       "      <td>0.000</td>\n",
       "      <td>0.000</td>\n",
       "    </tr>\n",
       "    <tr>\n",
       "      <th>FGR</th>\n",
       "      <td>0.000</td>\n",
       "      <td>0.000</td>\n",
       "      <td>0.000</td>\n",
       "      <td>0.000</td>\n",
       "      <td>0.000</td>\n",
       "      <td>0.000</td>\n",
       "      <td>0.000</td>\n",
       "      <td>0.000</td>\n",
       "      <td>0.000</td>\n",
       "      <td>0.000</td>\n",
       "      <td>...</td>\n",
       "      <td>0.000</td>\n",
       "      <td>0.0</td>\n",
       "      <td>0.000</td>\n",
       "      <td>0.000</td>\n",
       "      <td>0.000</td>\n",
       "      <td>0.000</td>\n",
       "      <td>0.000</td>\n",
       "      <td>0.000</td>\n",
       "      <td>0.000</td>\n",
       "      <td>0.000</td>\n",
       "    </tr>\n",
       "    <tr>\n",
       "      <th>...</th>\n",
       "      <td>...</td>\n",
       "      <td>...</td>\n",
       "      <td>...</td>\n",
       "      <td>...</td>\n",
       "      <td>...</td>\n",
       "      <td>...</td>\n",
       "      <td>...</td>\n",
       "      <td>...</td>\n",
       "      <td>...</td>\n",
       "      <td>...</td>\n",
       "      <td>...</td>\n",
       "      <td>...</td>\n",
       "      <td>...</td>\n",
       "      <td>...</td>\n",
       "      <td>...</td>\n",
       "      <td>...</td>\n",
       "      <td>...</td>\n",
       "      <td>...</td>\n",
       "      <td>...</td>\n",
       "      <td>...</td>\n",
       "      <td>...</td>\n",
       "    </tr>\n",
       "    <tr>\n",
       "      <th>MRPL45P2</th>\n",
       "      <td>0.000</td>\n",
       "      <td>69.396</td>\n",
       "      <td>6.990</td>\n",
       "      <td>2.000</td>\n",
       "      <td>0.000</td>\n",
       "      <td>4.261</td>\n",
       "      <td>2.772</td>\n",
       "      <td>5.928</td>\n",
       "      <td>14.976</td>\n",
       "      <td>0.000</td>\n",
       "      <td>...</td>\n",
       "      <td>15.118</td>\n",
       "      <td>1.0</td>\n",
       "      <td>0.000</td>\n",
       "      <td>16.408</td>\n",
       "      <td>1.000</td>\n",
       "      <td>1.862</td>\n",
       "      <td>6.927</td>\n",
       "      <td>0.000</td>\n",
       "      <td>0.000</td>\n",
       "      <td>1.004</td>\n",
       "    </tr>\n",
       "    <tr>\n",
       "      <th>SOD2</th>\n",
       "      <td>64.623</td>\n",
       "      <td>299.582</td>\n",
       "      <td>169.784</td>\n",
       "      <td>74.582</td>\n",
       "      <td>67.815</td>\n",
       "      <td>137.103</td>\n",
       "      <td>130.354</td>\n",
       "      <td>63.790</td>\n",
       "      <td>194.203</td>\n",
       "      <td>95.906</td>\n",
       "      <td>...</td>\n",
       "      <td>202.958</td>\n",
       "      <td>190.7</td>\n",
       "      <td>159.273</td>\n",
       "      <td>260.861</td>\n",
       "      <td>213.245</td>\n",
       "      <td>272.367</td>\n",
       "      <td>130.918</td>\n",
       "      <td>111.632</td>\n",
       "      <td>59.120</td>\n",
       "      <td>253.057</td>\n",
       "    </tr>\n",
       "    <tr>\n",
       "      <th>POLGARF</th>\n",
       "      <td>0.000</td>\n",
       "      <td>0.000</td>\n",
       "      <td>0.000</td>\n",
       "      <td>0.000</td>\n",
       "      <td>0.000</td>\n",
       "      <td>0.000</td>\n",
       "      <td>0.000</td>\n",
       "      <td>0.000</td>\n",
       "      <td>0.000</td>\n",
       "      <td>0.000</td>\n",
       "      <td>...</td>\n",
       "      <td>0.000</td>\n",
       "      <td>0.0</td>\n",
       "      <td>0.000</td>\n",
       "      <td>0.000</td>\n",
       "      <td>0.000</td>\n",
       "      <td>0.000</td>\n",
       "      <td>0.000</td>\n",
       "      <td>0.000</td>\n",
       "      <td>0.000</td>\n",
       "      <td>0.000</td>\n",
       "    </tr>\n",
       "    <tr>\n",
       "      <th>TMEM276</th>\n",
       "      <td>0.000</td>\n",
       "      <td>0.000</td>\n",
       "      <td>0.000</td>\n",
       "      <td>0.000</td>\n",
       "      <td>74.000</td>\n",
       "      <td>0.000</td>\n",
       "      <td>0.000</td>\n",
       "      <td>0.000</td>\n",
       "      <td>0.000</td>\n",
       "      <td>0.000</td>\n",
       "      <td>...</td>\n",
       "      <td>0.000</td>\n",
       "      <td>0.0</td>\n",
       "      <td>2.474</td>\n",
       "      <td>0.000</td>\n",
       "      <td>0.000</td>\n",
       "      <td>0.000</td>\n",
       "      <td>207.000</td>\n",
       "      <td>353.000</td>\n",
       "      <td>178.491</td>\n",
       "      <td>0.000</td>\n",
       "    </tr>\n",
       "    <tr>\n",
       "      <th>ADIPINT</th>\n",
       "      <td>2.005</td>\n",
       "      <td>3.097</td>\n",
       "      <td>0.000</td>\n",
       "      <td>0.000</td>\n",
       "      <td>4.000</td>\n",
       "      <td>0.000</td>\n",
       "      <td>0.000</td>\n",
       "      <td>0.000</td>\n",
       "      <td>0.000</td>\n",
       "      <td>0.000</td>\n",
       "      <td>...</td>\n",
       "      <td>0.000</td>\n",
       "      <td>0.0</td>\n",
       "      <td>0.000</td>\n",
       "      <td>0.868</td>\n",
       "      <td>2.000</td>\n",
       "      <td>5.012</td>\n",
       "      <td>0.000</td>\n",
       "      <td>4.006</td>\n",
       "      <td>0.000</td>\n",
       "      <td>0.000</td>\n",
       "    </tr>\n",
       "  </tbody>\n",
       "</table>\n",
       "<p>29141 rows × 656 columns</p>\n",
       "</div>"
      ],
      "text/plain": [
       "          073A01   073A02   073A03  073A04  073A06   073A08   073A10  073A12  \\\n",
       "TSPAN6     0.000    0.000    0.000   0.000   0.000    0.000    0.000   2.000   \n",
       "DPM1       3.093    7.505    3.000  23.000  34.000    1.000    3.703  70.007   \n",
       "SCYL3      1.000    0.000    0.000   0.000  12.000    1.001    6.018   0.000   \n",
       "C1orf112   0.000    0.000    0.000   2.000   0.000    1.000    0.000   0.000   \n",
       "FGR        0.000    0.000    0.000   0.000   0.000    0.000    0.000   0.000   \n",
       "...          ...      ...      ...     ...     ...      ...      ...     ...   \n",
       "MRPL45P2   0.000   69.396    6.990   2.000   0.000    4.261    2.772   5.928   \n",
       "SOD2      64.623  299.582  169.784  74.582  67.815  137.103  130.354  63.790   \n",
       "POLGARF    0.000    0.000    0.000   0.000   0.000    0.000    0.000   0.000   \n",
       "TMEM276    0.000    0.000    0.000   0.000  74.000    0.000    0.000   0.000   \n",
       "ADIPINT    2.005    3.097    0.000   0.000   4.000    0.000    0.000   0.000   \n",
       "\n",
       "           073A18  073A19  ...   090P13  090P15   090P16   090P17   090P18  \\\n",
       "TSPAN6      6.078   3.000  ...    1.008     0.0    0.000    1.001    1.000   \n",
       "DPM1       42.804   3.097  ...  292.645     0.0   18.159    9.170  103.000   \n",
       "SCYL3       0.000   0.000  ...    1.003     0.0    0.000    1.003    0.000   \n",
       "C1orf112    0.000   0.000  ...    0.000     0.0    0.000    0.000    0.000   \n",
       "FGR         0.000   0.000  ...    0.000     0.0    0.000    0.000    0.000   \n",
       "...           ...     ...  ...      ...     ...      ...      ...      ...   \n",
       "MRPL45P2   14.976   0.000  ...   15.118     1.0    0.000   16.408    1.000   \n",
       "SOD2      194.203  95.906  ...  202.958   190.7  159.273  260.861  213.245   \n",
       "POLGARF     0.000   0.000  ...    0.000     0.0    0.000    0.000    0.000   \n",
       "TMEM276     0.000   0.000  ...    0.000     0.0    2.474    0.000    0.000   \n",
       "ADIPINT     0.000   0.000  ...    0.000     0.0    0.000    0.868    2.000   \n",
       "\n",
       "           090P19   090P20   090P21   090P22   090P23  \n",
       "TSPAN6      0.000    0.000    0.000    1.000    0.000  \n",
       "DPM1       15.793    1.900  188.000    7.972    1.000  \n",
       "SCYL3       0.000    2.082    2.003    4.007    3.992  \n",
       "C1orf112    0.000    0.000    0.000    0.000    0.000  \n",
       "FGR         0.000    0.000    0.000    0.000    0.000  \n",
       "...           ...      ...      ...      ...      ...  \n",
       "MRPL45P2    1.862    6.927    0.000    0.000    1.004  \n",
       "SOD2      272.367  130.918  111.632   59.120  253.057  \n",
       "POLGARF     0.000    0.000    0.000    0.000    0.000  \n",
       "TMEM276     0.000  207.000  353.000  178.491    0.000  \n",
       "ADIPINT     5.012    0.000    4.006    0.000    0.000  \n",
       "\n",
       "[29141 rows x 656 columns]"
      ]
     },
     "execution_count": 78,
     "metadata": {},
     "output_type": "execute_result"
    }
   ],
   "source": [
    "ctMatrix.loc[(ctMatrix == 0).sum(axis=1) != ctMatrix[1]]"
   ]
  },
  {
   "cell_type": "code",
   "execution_count": null,
   "id": "c2d765bb",
   "metadata": {},
   "outputs": [],
   "source": []
  },
  {
   "cell_type": "code",
   "execution_count": null,
   "id": "65ecc170",
   "metadata": {},
   "outputs": [],
   "source": []
  },
  {
   "cell_type": "code",
   "execution_count": null,
   "id": "78dd20da",
   "metadata": {},
   "outputs": [],
   "source": []
  },
  {
   "cell_type": "code",
   "execution_count": null,
   "id": "7ab3a773",
   "metadata": {},
   "outputs": [],
   "source": []
  },
  {
   "cell_type": "code",
   "execution_count": 53,
   "id": "b012033b",
   "metadata": {},
   "outputs": [
    {
     "data": {
      "text/html": [
       "<div>\n",
       "<style scoped>\n",
       "    .dataframe tbody tr th:only-of-type {\n",
       "        vertical-align: middle;\n",
       "    }\n",
       "\n",
       "    .dataframe tbody tr th {\n",
       "        vertical-align: top;\n",
       "    }\n",
       "\n",
       "    .dataframe thead th {\n",
       "        text-align: right;\n",
       "    }\n",
       "</style>\n",
       "<table border=\"1\" class=\"dataframe\">\n",
       "  <thead>\n",
       "    <tr style=\"text-align: right;\">\n",
       "      <th></th>\n",
       "      <th>073A01</th>\n",
       "      <th>073A02</th>\n",
       "      <th>073A03</th>\n",
       "      <th>073A04</th>\n",
       "      <th>073A06</th>\n",
       "      <th>073A08</th>\n",
       "      <th>073A10</th>\n",
       "      <th>073A12</th>\n",
       "      <th>073A18</th>\n",
       "      <th>073A19</th>\n",
       "      <th>...</th>\n",
       "      <th>090P13</th>\n",
       "      <th>090P15</th>\n",
       "      <th>090P16</th>\n",
       "      <th>090P17</th>\n",
       "      <th>090P18</th>\n",
       "      <th>090P19</th>\n",
       "      <th>090P20</th>\n",
       "      <th>090P21</th>\n",
       "      <th>090P22</th>\n",
       "      <th>090P23</th>\n",
       "    </tr>\n",
       "  </thead>\n",
       "  <tbody>\n",
       "    <tr>\n",
       "      <th>TSPAN6</th>\n",
       "      <td>0.000</td>\n",
       "      <td>0.000</td>\n",
       "      <td>0.00</td>\n",
       "      <td>0.0</td>\n",
       "      <td>0.0</td>\n",
       "      <td>0.000</td>\n",
       "      <td>0.000</td>\n",
       "      <td>2.000</td>\n",
       "      <td>6.078</td>\n",
       "      <td>3.000</td>\n",
       "      <td>...</td>\n",
       "      <td>1.008</td>\n",
       "      <td>0.0</td>\n",
       "      <td>0.000</td>\n",
       "      <td>1.001</td>\n",
       "      <td>1.0</td>\n",
       "      <td>0.000</td>\n",
       "      <td>0.000</td>\n",
       "      <td>0.000</td>\n",
       "      <td>1.000</td>\n",
       "      <td>0.000</td>\n",
       "    </tr>\n",
       "    <tr>\n",
       "      <th>TNMD</th>\n",
       "      <td>0.000</td>\n",
       "      <td>0.000</td>\n",
       "      <td>0.00</td>\n",
       "      <td>0.0</td>\n",
       "      <td>0.0</td>\n",
       "      <td>0.000</td>\n",
       "      <td>0.000</td>\n",
       "      <td>0.000</td>\n",
       "      <td>0.000</td>\n",
       "      <td>0.000</td>\n",
       "      <td>...</td>\n",
       "      <td>0.000</td>\n",
       "      <td>0.0</td>\n",
       "      <td>0.000</td>\n",
       "      <td>0.000</td>\n",
       "      <td>0.0</td>\n",
       "      <td>0.000</td>\n",
       "      <td>0.000</td>\n",
       "      <td>0.000</td>\n",
       "      <td>0.000</td>\n",
       "      <td>0.000</td>\n",
       "    </tr>\n",
       "    <tr>\n",
       "      <th>DPM1</th>\n",
       "      <td>3.093</td>\n",
       "      <td>7.505</td>\n",
       "      <td>3.00</td>\n",
       "      <td>23.0</td>\n",
       "      <td>34.0</td>\n",
       "      <td>1.000</td>\n",
       "      <td>3.703</td>\n",
       "      <td>70.007</td>\n",
       "      <td>42.804</td>\n",
       "      <td>3.097</td>\n",
       "      <td>...</td>\n",
       "      <td>292.645</td>\n",
       "      <td>0.0</td>\n",
       "      <td>18.159</td>\n",
       "      <td>9.170</td>\n",
       "      <td>103.0</td>\n",
       "      <td>15.793</td>\n",
       "      <td>1.900</td>\n",
       "      <td>188.000</td>\n",
       "      <td>7.972</td>\n",
       "      <td>1.000</td>\n",
       "    </tr>\n",
       "    <tr>\n",
       "      <th>SCYL3</th>\n",
       "      <td>1.000</td>\n",
       "      <td>0.000</td>\n",
       "      <td>0.00</td>\n",
       "      <td>0.0</td>\n",
       "      <td>12.0</td>\n",
       "      <td>1.001</td>\n",
       "      <td>6.018</td>\n",
       "      <td>0.000</td>\n",
       "      <td>0.000</td>\n",
       "      <td>0.000</td>\n",
       "      <td>...</td>\n",
       "      <td>1.003</td>\n",
       "      <td>0.0</td>\n",
       "      <td>0.000</td>\n",
       "      <td>1.003</td>\n",
       "      <td>0.0</td>\n",
       "      <td>0.000</td>\n",
       "      <td>2.082</td>\n",
       "      <td>2.003</td>\n",
       "      <td>4.007</td>\n",
       "      <td>3.992</td>\n",
       "    </tr>\n",
       "    <tr>\n",
       "      <th>C1orf112</th>\n",
       "      <td>0.000</td>\n",
       "      <td>0.000</td>\n",
       "      <td>0.00</td>\n",
       "      <td>2.0</td>\n",
       "      <td>0.0</td>\n",
       "      <td>1.000</td>\n",
       "      <td>0.000</td>\n",
       "      <td>0.000</td>\n",
       "      <td>0.000</td>\n",
       "      <td>0.000</td>\n",
       "      <td>...</td>\n",
       "      <td>0.000</td>\n",
       "      <td>0.0</td>\n",
       "      <td>0.000</td>\n",
       "      <td>0.000</td>\n",
       "      <td>0.0</td>\n",
       "      <td>0.000</td>\n",
       "      <td>0.000</td>\n",
       "      <td>0.000</td>\n",
       "      <td>0.000</td>\n",
       "      <td>0.000</td>\n",
       "    </tr>\n",
       "    <tr>\n",
       "      <th>...</th>\n",
       "      <td>...</td>\n",
       "      <td>...</td>\n",
       "      <td>...</td>\n",
       "      <td>...</td>\n",
       "      <td>...</td>\n",
       "      <td>...</td>\n",
       "      <td>...</td>\n",
       "      <td>...</td>\n",
       "      <td>...</td>\n",
       "      <td>...</td>\n",
       "      <td>...</td>\n",
       "      <td>...</td>\n",
       "      <td>...</td>\n",
       "      <td>...</td>\n",
       "      <td>...</td>\n",
       "      <td>...</td>\n",
       "      <td>...</td>\n",
       "      <td>...</td>\n",
       "      <td>...</td>\n",
       "      <td>...</td>\n",
       "      <td>...</td>\n",
       "    </tr>\n",
       "    <tr>\n",
       "      <th>MRPL45P2</th>\n",
       "      <td>0.000</td>\n",
       "      <td>69.396</td>\n",
       "      <td>6.99</td>\n",
       "      <td>2.0</td>\n",
       "      <td>0.0</td>\n",
       "      <td>4.261</td>\n",
       "      <td>2.772</td>\n",
       "      <td>5.928</td>\n",
       "      <td>14.976</td>\n",
       "      <td>0.000</td>\n",
       "      <td>...</td>\n",
       "      <td>15.118</td>\n",
       "      <td>1.0</td>\n",
       "      <td>0.000</td>\n",
       "      <td>16.408</td>\n",
       "      <td>1.0</td>\n",
       "      <td>1.862</td>\n",
       "      <td>6.927</td>\n",
       "      <td>0.000</td>\n",
       "      <td>0.000</td>\n",
       "      <td>1.004</td>\n",
       "    </tr>\n",
       "    <tr>\n",
       "      <th>POLGARF</th>\n",
       "      <td>0.000</td>\n",
       "      <td>0.000</td>\n",
       "      <td>0.00</td>\n",
       "      <td>0.0</td>\n",
       "      <td>0.0</td>\n",
       "      <td>0.000</td>\n",
       "      <td>0.000</td>\n",
       "      <td>0.000</td>\n",
       "      <td>0.000</td>\n",
       "      <td>0.000</td>\n",
       "      <td>...</td>\n",
       "      <td>0.000</td>\n",
       "      <td>0.0</td>\n",
       "      <td>0.000</td>\n",
       "      <td>0.000</td>\n",
       "      <td>0.0</td>\n",
       "      <td>0.000</td>\n",
       "      <td>0.000</td>\n",
       "      <td>0.000</td>\n",
       "      <td>0.000</td>\n",
       "      <td>0.000</td>\n",
       "    </tr>\n",
       "    <tr>\n",
       "      <th>LY6S</th>\n",
       "      <td>0.000</td>\n",
       "      <td>0.000</td>\n",
       "      <td>0.00</td>\n",
       "      <td>0.0</td>\n",
       "      <td>0.0</td>\n",
       "      <td>0.000</td>\n",
       "      <td>0.000</td>\n",
       "      <td>0.000</td>\n",
       "      <td>0.000</td>\n",
       "      <td>0.000</td>\n",
       "      <td>...</td>\n",
       "      <td>0.000</td>\n",
       "      <td>0.0</td>\n",
       "      <td>0.000</td>\n",
       "      <td>0.000</td>\n",
       "      <td>0.0</td>\n",
       "      <td>0.000</td>\n",
       "      <td>0.000</td>\n",
       "      <td>0.000</td>\n",
       "      <td>0.000</td>\n",
       "      <td>0.000</td>\n",
       "    </tr>\n",
       "    <tr>\n",
       "      <th>TMEM276</th>\n",
       "      <td>0.000</td>\n",
       "      <td>0.000</td>\n",
       "      <td>0.00</td>\n",
       "      <td>0.0</td>\n",
       "      <td>74.0</td>\n",
       "      <td>0.000</td>\n",
       "      <td>0.000</td>\n",
       "      <td>0.000</td>\n",
       "      <td>0.000</td>\n",
       "      <td>0.000</td>\n",
       "      <td>...</td>\n",
       "      <td>0.000</td>\n",
       "      <td>0.0</td>\n",
       "      <td>2.474</td>\n",
       "      <td>0.000</td>\n",
       "      <td>0.0</td>\n",
       "      <td>0.000</td>\n",
       "      <td>207.000</td>\n",
       "      <td>353.000</td>\n",
       "      <td>178.491</td>\n",
       "      <td>0.000</td>\n",
       "    </tr>\n",
       "    <tr>\n",
       "      <th>ADIPINT</th>\n",
       "      <td>2.005</td>\n",
       "      <td>3.097</td>\n",
       "      <td>0.00</td>\n",
       "      <td>0.0</td>\n",
       "      <td>4.0</td>\n",
       "      <td>0.000</td>\n",
       "      <td>0.000</td>\n",
       "      <td>0.000</td>\n",
       "      <td>0.000</td>\n",
       "      <td>0.000</td>\n",
       "      <td>...</td>\n",
       "      <td>0.000</td>\n",
       "      <td>0.0</td>\n",
       "      <td>0.000</td>\n",
       "      <td>0.868</td>\n",
       "      <td>2.0</td>\n",
       "      <td>5.012</td>\n",
       "      <td>0.000</td>\n",
       "      <td>4.006</td>\n",
       "      <td>0.000</td>\n",
       "      <td>0.000</td>\n",
       "    </tr>\n",
       "  </tbody>\n",
       "</table>\n",
       "<p>40568 rows × 656 columns</p>\n",
       "</div>"
      ],
      "text/plain": [
       "          073A01  073A02  073A03  073A04  073A06  073A08  073A10  073A12  \\\n",
       "TSPAN6     0.000   0.000    0.00     0.0     0.0   0.000   0.000   2.000   \n",
       "TNMD       0.000   0.000    0.00     0.0     0.0   0.000   0.000   0.000   \n",
       "DPM1       3.093   7.505    3.00    23.0    34.0   1.000   3.703  70.007   \n",
       "SCYL3      1.000   0.000    0.00     0.0    12.0   1.001   6.018   0.000   \n",
       "C1orf112   0.000   0.000    0.00     2.0     0.0   1.000   0.000   0.000   \n",
       "...          ...     ...     ...     ...     ...     ...     ...     ...   \n",
       "MRPL45P2   0.000  69.396    6.99     2.0     0.0   4.261   2.772   5.928   \n",
       "POLGARF    0.000   0.000    0.00     0.0     0.0   0.000   0.000   0.000   \n",
       "LY6S       0.000   0.000    0.00     0.0     0.0   0.000   0.000   0.000   \n",
       "TMEM276    0.000   0.000    0.00     0.0    74.0   0.000   0.000   0.000   \n",
       "ADIPINT    2.005   3.097    0.00     0.0     4.0   0.000   0.000   0.000   \n",
       "\n",
       "          073A18  073A19  ...   090P13  090P15  090P16  090P17  090P18  \\\n",
       "TSPAN6     6.078   3.000  ...    1.008     0.0   0.000   1.001     1.0   \n",
       "TNMD       0.000   0.000  ...    0.000     0.0   0.000   0.000     0.0   \n",
       "DPM1      42.804   3.097  ...  292.645     0.0  18.159   9.170   103.0   \n",
       "SCYL3      0.000   0.000  ...    1.003     0.0   0.000   1.003     0.0   \n",
       "C1orf112   0.000   0.000  ...    0.000     0.0   0.000   0.000     0.0   \n",
       "...          ...     ...  ...      ...     ...     ...     ...     ...   \n",
       "MRPL45P2  14.976   0.000  ...   15.118     1.0   0.000  16.408     1.0   \n",
       "POLGARF    0.000   0.000  ...    0.000     0.0   0.000   0.000     0.0   \n",
       "LY6S       0.000   0.000  ...    0.000     0.0   0.000   0.000     0.0   \n",
       "TMEM276    0.000   0.000  ...    0.000     0.0   2.474   0.000     0.0   \n",
       "ADIPINT    0.000   0.000  ...    0.000     0.0   0.000   0.868     2.0   \n",
       "\n",
       "          090P19   090P20   090P21   090P22  090P23  \n",
       "TSPAN6     0.000    0.000    0.000    1.000   0.000  \n",
       "TNMD       0.000    0.000    0.000    0.000   0.000  \n",
       "DPM1      15.793    1.900  188.000    7.972   1.000  \n",
       "SCYL3      0.000    2.082    2.003    4.007   3.992  \n",
       "C1orf112   0.000    0.000    0.000    0.000   0.000  \n",
       "...          ...      ...      ...      ...     ...  \n",
       "MRPL45P2   1.862    6.927    0.000    0.000   1.004  \n",
       "POLGARF    0.000    0.000    0.000    0.000   0.000  \n",
       "LY6S       0.000    0.000    0.000    0.000   0.000  \n",
       "TMEM276    0.000  207.000  353.000  178.491   0.000  \n",
       "ADIPINT    5.012    0.000    4.006    0.000   0.000  \n",
       "\n",
       "[40568 rows x 656 columns]"
      ]
     },
     "execution_count": 53,
     "metadata": {},
     "output_type": "execute_result"
    }
   ],
   "source": [
    "ctMatrix.loc[(ctMatrix == 0).any(axis = 1)]"
   ]
  },
  {
   "cell_type": "code",
   "execution_count": 45,
   "id": "acf0ba46",
   "metadata": {},
   "outputs": [
    {
     "data": {
      "text/plain": [
       "(40605, 656)"
      ]
     },
     "execution_count": 45,
     "metadata": {},
     "output_type": "execute_result"
    }
   ],
   "source": [
    "ctMatrixClean = ctMatrix.loc[(ctMatrix == 0).sum(axis = 0) < row_threshold]\n",
    "ctMatrixClean = ctMatrix.loc[(ctMatrix == 0).sum(axis=1) < row_threshold]\n",
    "\n",
    "ctMatrixClean.shape"
   ]
  },
  {
   "cell_type": "code",
   "execution_count": null,
   "id": "2a78179a",
   "metadata": {},
   "outputs": [],
   "source": []
  },
  {
   "cell_type": "code",
   "execution_count": null,
   "id": "4969fadf",
   "metadata": {},
   "outputs": [],
   "source": []
  },
  {
   "cell_type": "code",
   "execution_count": null,
   "id": "1a46868e",
   "metadata": {},
   "outputs": [],
   "source": []
  },
  {
   "cell_type": "code",
   "execution_count": null,
   "id": "63d825a1",
   "metadata": {},
   "outputs": [],
   "source": []
  },
  {
   "cell_type": "code",
   "execution_count": null,
   "id": "858529d6",
   "metadata": {},
   "outputs": [],
   "source": [
    "ctMatrixClean = ctMatrix.loc[(ctMatrix == 0).sum(axis = 0) < row_threshold]"
   ]
  },
  {
   "cell_type": "code",
   "execution_count": 112,
   "id": "c4effe85",
   "metadata": {},
   "outputs": [
    {
     "data": {
      "text/html": [
       "<div>\n",
       "<style scoped>\n",
       "    .dataframe tbody tr th:only-of-type {\n",
       "        vertical-align: middle;\n",
       "    }\n",
       "\n",
       "    .dataframe tbody tr th {\n",
       "        vertical-align: top;\n",
       "    }\n",
       "\n",
       "    .dataframe thead th {\n",
       "        text-align: right;\n",
       "    }\n",
       "</style>\n",
       "<table border=\"1\" class=\"dataframe\">\n",
       "  <thead>\n",
       "    <tr style=\"text-align: right;\">\n",
       "      <th></th>\n",
       "      <th>073A01</th>\n",
       "      <th>073A02</th>\n",
       "      <th>073A03</th>\n",
       "      <th>073A04</th>\n",
       "      <th>073A06</th>\n",
       "      <th>073A08</th>\n",
       "      <th>073A10</th>\n",
       "      <th>073A12</th>\n",
       "      <th>073A18</th>\n",
       "      <th>073A19</th>\n",
       "      <th>...</th>\n",
       "      <th>090P13</th>\n",
       "      <th>090P15</th>\n",
       "      <th>090P16</th>\n",
       "      <th>090P17</th>\n",
       "      <th>090P18</th>\n",
       "      <th>090P19</th>\n",
       "      <th>090P20</th>\n",
       "      <th>090P21</th>\n",
       "      <th>090P22</th>\n",
       "      <th>090P23</th>\n",
       "    </tr>\n",
       "  </thead>\n",
       "  <tbody>\n",
       "    <tr>\n",
       "      <th>TSPAN6</th>\n",
       "      <td>0.000</td>\n",
       "      <td>0.000</td>\n",
       "      <td>0.0</td>\n",
       "      <td>0.0</td>\n",
       "      <td>0.0</td>\n",
       "      <td>0.000</td>\n",
       "      <td>0.000</td>\n",
       "      <td>2.000</td>\n",
       "      <td>6.078</td>\n",
       "      <td>3.000</td>\n",
       "      <td>...</td>\n",
       "      <td>1.008</td>\n",
       "      <td>0.0</td>\n",
       "      <td>0.000</td>\n",
       "      <td>1.001</td>\n",
       "      <td>1.0</td>\n",
       "      <td>0.000</td>\n",
       "      <td>0.000</td>\n",
       "      <td>0.000</td>\n",
       "      <td>1.000</td>\n",
       "      <td>0.000</td>\n",
       "    </tr>\n",
       "    <tr>\n",
       "      <th>TNMD</th>\n",
       "      <td>0.000</td>\n",
       "      <td>0.000</td>\n",
       "      <td>0.0</td>\n",
       "      <td>0.0</td>\n",
       "      <td>0.0</td>\n",
       "      <td>0.000</td>\n",
       "      <td>0.000</td>\n",
       "      <td>0.000</td>\n",
       "      <td>0.000</td>\n",
       "      <td>0.000</td>\n",
       "      <td>...</td>\n",
       "      <td>0.000</td>\n",
       "      <td>0.0</td>\n",
       "      <td>0.000</td>\n",
       "      <td>0.000</td>\n",
       "      <td>0.0</td>\n",
       "      <td>0.000</td>\n",
       "      <td>0.000</td>\n",
       "      <td>0.000</td>\n",
       "      <td>0.000</td>\n",
       "      <td>0.000</td>\n",
       "    </tr>\n",
       "    <tr>\n",
       "      <th>DPM1</th>\n",
       "      <td>3.093</td>\n",
       "      <td>7.505</td>\n",
       "      <td>3.0</td>\n",
       "      <td>23.0</td>\n",
       "      <td>34.0</td>\n",
       "      <td>1.000</td>\n",
       "      <td>3.703</td>\n",
       "      <td>70.007</td>\n",
       "      <td>42.804</td>\n",
       "      <td>3.097</td>\n",
       "      <td>...</td>\n",
       "      <td>292.645</td>\n",
       "      <td>0.0</td>\n",
       "      <td>18.159</td>\n",
       "      <td>9.170</td>\n",
       "      <td>103.0</td>\n",
       "      <td>15.793</td>\n",
       "      <td>1.900</td>\n",
       "      <td>188.000</td>\n",
       "      <td>7.972</td>\n",
       "      <td>1.000</td>\n",
       "    </tr>\n",
       "    <tr>\n",
       "      <th>SCYL3</th>\n",
       "      <td>1.000</td>\n",
       "      <td>0.000</td>\n",
       "      <td>0.0</td>\n",
       "      <td>0.0</td>\n",
       "      <td>12.0</td>\n",
       "      <td>1.001</td>\n",
       "      <td>6.018</td>\n",
       "      <td>0.000</td>\n",
       "      <td>0.000</td>\n",
       "      <td>0.000</td>\n",
       "      <td>...</td>\n",
       "      <td>1.003</td>\n",
       "      <td>0.0</td>\n",
       "      <td>0.000</td>\n",
       "      <td>1.003</td>\n",
       "      <td>0.0</td>\n",
       "      <td>0.000</td>\n",
       "      <td>2.082</td>\n",
       "      <td>2.003</td>\n",
       "      <td>4.007</td>\n",
       "      <td>3.992</td>\n",
       "    </tr>\n",
       "    <tr>\n",
       "      <th>C1orf112</th>\n",
       "      <td>0.000</td>\n",
       "      <td>0.000</td>\n",
       "      <td>0.0</td>\n",
       "      <td>2.0</td>\n",
       "      <td>0.0</td>\n",
       "      <td>1.000</td>\n",
       "      <td>0.000</td>\n",
       "      <td>0.000</td>\n",
       "      <td>0.000</td>\n",
       "      <td>0.000</td>\n",
       "      <td>...</td>\n",
       "      <td>0.000</td>\n",
       "      <td>0.0</td>\n",
       "      <td>0.000</td>\n",
       "      <td>0.000</td>\n",
       "      <td>0.0</td>\n",
       "      <td>0.000</td>\n",
       "      <td>0.000</td>\n",
       "      <td>0.000</td>\n",
       "      <td>0.000</td>\n",
       "      <td>0.000</td>\n",
       "    </tr>\n",
       "  </tbody>\n",
       "</table>\n",
       "<p>5 rows × 656 columns</p>\n",
       "</div>"
      ],
      "text/plain": [
       "          073A01  073A02  073A03  073A04  073A06  073A08  073A10  073A12  \\\n",
       "TSPAN6     0.000   0.000     0.0     0.0     0.0   0.000   0.000   2.000   \n",
       "TNMD       0.000   0.000     0.0     0.0     0.0   0.000   0.000   0.000   \n",
       "DPM1       3.093   7.505     3.0    23.0    34.0   1.000   3.703  70.007   \n",
       "SCYL3      1.000   0.000     0.0     0.0    12.0   1.001   6.018   0.000   \n",
       "C1orf112   0.000   0.000     0.0     2.0     0.0   1.000   0.000   0.000   \n",
       "\n",
       "          073A18  073A19  ...   090P13  090P15  090P16  090P17  090P18  \\\n",
       "TSPAN6     6.078   3.000  ...    1.008     0.0   0.000   1.001     1.0   \n",
       "TNMD       0.000   0.000  ...    0.000     0.0   0.000   0.000     0.0   \n",
       "DPM1      42.804   3.097  ...  292.645     0.0  18.159   9.170   103.0   \n",
       "SCYL3      0.000   0.000  ...    1.003     0.0   0.000   1.003     0.0   \n",
       "C1orf112   0.000   0.000  ...    0.000     0.0   0.000   0.000     0.0   \n",
       "\n",
       "          090P19  090P20   090P21  090P22  090P23  \n",
       "TSPAN6     0.000   0.000    0.000   1.000   0.000  \n",
       "TNMD       0.000   0.000    0.000   0.000   0.000  \n",
       "DPM1      15.793   1.900  188.000   7.972   1.000  \n",
       "SCYL3      0.000   2.082    2.003   4.007   3.992  \n",
       "C1orf112   0.000   0.000    0.000   0.000   0.000  \n",
       "\n",
       "[5 rows x 656 columns]"
      ]
     },
     "execution_count": 112,
     "metadata": {},
     "output_type": "execute_result"
    }
   ],
   "source": [
    "ctMatrix.head()"
   ]
  },
  {
   "cell_type": "code",
   "execution_count": 113,
   "id": "71ecd3b2",
   "metadata": {
    "scrolled": true
   },
   "outputs": [
    {
     "data": {
      "text/plain": [
       "(40605, 656)"
      ]
     },
     "execution_count": 113,
     "metadata": {},
     "output_type": "execute_result"
    }
   ],
   "source": [
    "ctMatrix.shape"
   ]
  },
  {
   "cell_type": "markdown",
   "id": "339176c1",
   "metadata": {},
   "source": [
    "# Initial Exploration"
   ]
  },
  {
   "cell_type": "code",
   "execution_count": 177,
   "id": "7c689b9e",
   "metadata": {},
   "outputs": [
    {
     "data": {
      "text/plain": [
       "(40605, 656)"
      ]
     },
     "execution_count": 177,
     "metadata": {},
     "output_type": "execute_result"
    }
   ],
   "source": [
    "ctMatrix.head()\n",
    "ctMatrix.tail()\n",
    "ctMatrix.shape\n"
   ]
  },
  {
   "cell_type": "code",
   "execution_count": 171,
   "id": "a4a157ab",
   "metadata": {
    "collapsed": true
   },
   "outputs": [
    {
     "ename": "InvalidIndexError",
     "evalue": "(slice(None, None, None), slice(0, 20, None))",
     "output_type": "error",
     "traceback": [
      "\u001b[0;31m---------------------------------------------------------------------------\u001b[0m",
      "\u001b[0;31mTypeError\u001b[0m                                 Traceback (most recent call last)",
      "File \u001b[0;32m~/anaconda3/lib/python3.11/site-packages/pandas/core/indexes/base.py:3805\u001b[0m, in \u001b[0;36mIndex.get_loc\u001b[0;34m(self, key)\u001b[0m\n\u001b[1;32m   3804\u001b[0m \u001b[38;5;28;01mtry\u001b[39;00m:\n\u001b[0;32m-> 3805\u001b[0m     \u001b[38;5;28;01mreturn\u001b[39;00m \u001b[38;5;28mself\u001b[39m\u001b[38;5;241m.\u001b[39m_engine\u001b[38;5;241m.\u001b[39mget_loc(casted_key)\n\u001b[1;32m   3806\u001b[0m \u001b[38;5;28;01mexcept\u001b[39;00m \u001b[38;5;167;01mKeyError\u001b[39;00m \u001b[38;5;28;01mas\u001b[39;00m err:\n",
      "File \u001b[0;32mindex.pyx:167\u001b[0m, in \u001b[0;36mpandas._libs.index.IndexEngine.get_loc\u001b[0;34m()\u001b[0m\n",
      "File \u001b[0;32mindex.pyx:173\u001b[0m, in \u001b[0;36mpandas._libs.index.IndexEngine.get_loc\u001b[0;34m()\u001b[0m\n",
      "\u001b[0;31mTypeError\u001b[0m: '(slice(None, None, None), slice(0, 20, None))' is an invalid key",
      "\nDuring handling of the above exception, another exception occurred:\n",
      "\u001b[0;31mInvalidIndexError\u001b[0m                         Traceback (most recent call last)",
      "Cell \u001b[0;32mIn[171], line 1\u001b[0m\n\u001b[0;32m----> 1\u001b[0m ct_matrix\u001b[38;5;241m.\u001b[39mdescribe(include\u001b[38;5;241m=\u001b[39m\u001b[38;5;124m'\u001b[39m\u001b[38;5;124mall\u001b[39m\u001b[38;5;124m'\u001b[39m)[:,\u001b[38;5;241m0\u001b[39m:\u001b[38;5;241m20\u001b[39m]\n",
      "File \u001b[0;32m~/anaconda3/lib/python3.11/site-packages/pandas/core/frame.py:4102\u001b[0m, in \u001b[0;36mDataFrame.__getitem__\u001b[0;34m(self, key)\u001b[0m\n\u001b[1;32m   4100\u001b[0m \u001b[38;5;28;01mif\u001b[39;00m \u001b[38;5;28mself\u001b[39m\u001b[38;5;241m.\u001b[39mcolumns\u001b[38;5;241m.\u001b[39mnlevels \u001b[38;5;241m>\u001b[39m \u001b[38;5;241m1\u001b[39m:\n\u001b[1;32m   4101\u001b[0m     \u001b[38;5;28;01mreturn\u001b[39;00m \u001b[38;5;28mself\u001b[39m\u001b[38;5;241m.\u001b[39m_getitem_multilevel(key)\n\u001b[0;32m-> 4102\u001b[0m indexer \u001b[38;5;241m=\u001b[39m \u001b[38;5;28mself\u001b[39m\u001b[38;5;241m.\u001b[39mcolumns\u001b[38;5;241m.\u001b[39mget_loc(key)\n\u001b[1;32m   4103\u001b[0m \u001b[38;5;28;01mif\u001b[39;00m is_integer(indexer):\n\u001b[1;32m   4104\u001b[0m     indexer \u001b[38;5;241m=\u001b[39m [indexer]\n",
      "File \u001b[0;32m~/anaconda3/lib/python3.11/site-packages/pandas/core/indexes/base.py:3817\u001b[0m, in \u001b[0;36mIndex.get_loc\u001b[0;34m(self, key)\u001b[0m\n\u001b[1;32m   3812\u001b[0m     \u001b[38;5;28;01mraise\u001b[39;00m \u001b[38;5;167;01mKeyError\u001b[39;00m(key) \u001b[38;5;28;01mfrom\u001b[39;00m \u001b[38;5;21;01merr\u001b[39;00m\n\u001b[1;32m   3813\u001b[0m \u001b[38;5;28;01mexcept\u001b[39;00m \u001b[38;5;167;01mTypeError\u001b[39;00m:\n\u001b[1;32m   3814\u001b[0m     \u001b[38;5;66;03m# If we have a listlike key, _check_indexing_error will raise\u001b[39;00m\n\u001b[1;32m   3815\u001b[0m     \u001b[38;5;66;03m#  InvalidIndexError. Otherwise we fall through and re-raise\u001b[39;00m\n\u001b[1;32m   3816\u001b[0m     \u001b[38;5;66;03m#  the TypeError.\u001b[39;00m\n\u001b[0;32m-> 3817\u001b[0m     \u001b[38;5;28mself\u001b[39m\u001b[38;5;241m.\u001b[39m_check_indexing_error(key)\n\u001b[1;32m   3818\u001b[0m     \u001b[38;5;28;01mraise\u001b[39;00m\n",
      "File \u001b[0;32m~/anaconda3/lib/python3.11/site-packages/pandas/core/indexes/base.py:6059\u001b[0m, in \u001b[0;36mIndex._check_indexing_error\u001b[0;34m(self, key)\u001b[0m\n\u001b[1;32m   6055\u001b[0m \u001b[38;5;28;01mdef\u001b[39;00m \u001b[38;5;21m_check_indexing_error\u001b[39m(\u001b[38;5;28mself\u001b[39m, key):\n\u001b[1;32m   6056\u001b[0m     \u001b[38;5;28;01mif\u001b[39;00m \u001b[38;5;129;01mnot\u001b[39;00m is_scalar(key):\n\u001b[1;32m   6057\u001b[0m         \u001b[38;5;66;03m# if key is not a scalar, directly raise an error (the code below\u001b[39;00m\n\u001b[1;32m   6058\u001b[0m         \u001b[38;5;66;03m# would convert to numpy arrays and raise later any way) - GH29926\u001b[39;00m\n\u001b[0;32m-> 6059\u001b[0m         \u001b[38;5;28;01mraise\u001b[39;00m InvalidIndexError(key)\n",
      "\u001b[0;31mInvalidIndexError\u001b[0m: (slice(None, None, None), slice(0, 20, None))"
     ]
    }
   ],
   "source": [
    "ctMatrix.describe(include='all')"
   ]
  },
  {
   "cell_type": "code",
   "execution_count": 166,
   "id": "536c37cb",
   "metadata": {
    "collapsed": true
   },
   "outputs": [
    {
     "data": {
      "text/plain": [
       "073A01    float64\n",
       "073A02    float64\n",
       "073A03    float64\n",
       "073A04    float64\n",
       "073A06    float64\n",
       "           ...   \n",
       "090P19    float64\n",
       "090P20    float64\n",
       "090P21    float64\n",
       "090P22    float64\n",
       "090P23    float64\n",
       "Length: 656, dtype: object"
      ]
     },
     "execution_count": 166,
     "metadata": {},
     "output_type": "execute_result"
    }
   ],
   "source": [
    "ctMatrix.dtypes"
   ]
  },
  {
   "cell_type": "code",
   "execution_count": 169,
   "id": "40717351",
   "metadata": {
    "collapsed": true
   },
   "outputs": [
    {
     "data": {
      "text/plain": [
       "073A01    32427\n",
       "073A02    33014\n",
       "073A03    32996\n",
       "073A04    32758\n",
       "073A06    32841\n",
       "          ...  \n",
       "090P19    34040\n",
       "090P20    32413\n",
       "090P21    33702\n",
       "090P22    32880\n",
       "090P23    33945\n",
       "Length: 656, dtype: int64"
      ]
     },
     "execution_count": 169,
     "metadata": {},
     "output_type": "execute_result"
    }
   ],
   "source": [
    "ctMatrix_zeros.isna().sum()"
   ]
  },
  {
   "cell_type": "code",
   "execution_count": 173,
   "id": "3556b3d6",
   "metadata": {
    "collapsed": true
   },
   "outputs": [
    {
     "data": {
      "text/plain": [
       "073A03\n",
       "0.000       32996\n",
       "1.000         464\n",
       "2.000         253\n",
       "3.000         159\n",
       "4.000         137\n",
       "            ...  \n",
       "606.566         1\n",
       "1279.731        1\n",
       "6.171           1\n",
       "4.143           1\n",
       "169.784         1\n",
       "Name: count, Length: 4131, dtype: int64"
      ]
     },
     "execution_count": 173,
     "metadata": {},
     "output_type": "execute_result"
    }
   ],
   "source": [
    "ctMatrix['073A03'].value_counts()"
   ]
  },
  {
   "cell_type": "markdown",
   "id": "5616adba",
   "metadata": {},
   "source": [
    "## Random Sampling review"
   ]
  },
  {
   "cell_type": "code",
   "execution_count": 6,
   "id": "21bec698",
   "metadata": {},
   "outputs": [
    {
     "data": {
      "text/plain": [
       "(2030, 13)"
      ]
     },
     "execution_count": 6,
     "metadata": {},
     "output_type": "execute_result"
    }
   ],
   "source": [
    "dfRand = ctMatrix.sample(frac = 0.05, random_state=1)\n",
    "dfRand = dfRand.sample(frac = 0.02, axis= 1, random_state = 1)\n",
    "\n",
    "\n",
    "dfRandzeros = dfRand.replace(0, value = np.nan, inplace = False)\n",
    "dfRandzeros.shape"
   ]
  },
  {
   "cell_type": "code",
   "execution_count": 186,
   "id": "cc7c2144",
   "metadata": {
    "collapsed": true
   },
   "outputs": [
    {
     "data": {
      "text/html": [
       "<div>\n",
       "<style scoped>\n",
       "    .dataframe tbody tr th:only-of-type {\n",
       "        vertical-align: middle;\n",
       "    }\n",
       "\n",
       "    .dataframe tbody tr th {\n",
       "        vertical-align: top;\n",
       "    }\n",
       "\n",
       "    .dataframe thead th {\n",
       "        text-align: right;\n",
       "    }\n",
       "</style>\n",
       "<table border=\"1\" class=\"dataframe\">\n",
       "  <thead>\n",
       "    <tr style=\"text-align: right;\">\n",
       "      <th></th>\n",
       "      <th>090H08</th>\n",
       "      <th>090J21</th>\n",
       "      <th>090P21</th>\n",
       "      <th>090M11</th>\n",
       "      <th>090P05</th>\n",
       "      <th>090K07</th>\n",
       "      <th>073D13</th>\n",
       "      <th>073O11</th>\n",
       "      <th>073K13</th>\n",
       "      <th>073B18</th>\n",
       "      <th>073G07</th>\n",
       "      <th>090D10</th>\n",
       "      <th>090A17</th>\n",
       "    </tr>\n",
       "  </thead>\n",
       "  <tbody>\n",
       "    <tr>\n",
       "      <th>KRTAP4-7</th>\n",
       "      <td>0.0</td>\n",
       "      <td>0.0</td>\n",
       "      <td>0.0</td>\n",
       "      <td>0.000</td>\n",
       "      <td>0.0</td>\n",
       "      <td>0.000</td>\n",
       "      <td>0.00</td>\n",
       "      <td>0.0</td>\n",
       "      <td>0.0</td>\n",
       "      <td>0.0</td>\n",
       "      <td>0.000</td>\n",
       "      <td>0.0</td>\n",
       "      <td>0.0</td>\n",
       "    </tr>\n",
       "    <tr>\n",
       "      <th>NKX2-1-AS1</th>\n",
       "      <td>0.0</td>\n",
       "      <td>0.0</td>\n",
       "      <td>0.0</td>\n",
       "      <td>0.000</td>\n",
       "      <td>0.0</td>\n",
       "      <td>0.000</td>\n",
       "      <td>0.00</td>\n",
       "      <td>0.0</td>\n",
       "      <td>0.0</td>\n",
       "      <td>0.0</td>\n",
       "      <td>0.000</td>\n",
       "      <td>0.0</td>\n",
       "      <td>0.0</td>\n",
       "    </tr>\n",
       "    <tr>\n",
       "      <th>TAF5L</th>\n",
       "      <td>0.0</td>\n",
       "      <td>0.0</td>\n",
       "      <td>0.0</td>\n",
       "      <td>0.000</td>\n",
       "      <td>0.0</td>\n",
       "      <td>0.000</td>\n",
       "      <td>0.00</td>\n",
       "      <td>0.0</td>\n",
       "      <td>0.0</td>\n",
       "      <td>0.0</td>\n",
       "      <td>0.000</td>\n",
       "      <td>0.0</td>\n",
       "      <td>0.0</td>\n",
       "    </tr>\n",
       "    <tr>\n",
       "      <th>CYTH3</th>\n",
       "      <td>0.0</td>\n",
       "      <td>0.0</td>\n",
       "      <td>0.0</td>\n",
       "      <td>3.000</td>\n",
       "      <td>0.0</td>\n",
       "      <td>0.000</td>\n",
       "      <td>0.00</td>\n",
       "      <td>0.0</td>\n",
       "      <td>0.0</td>\n",
       "      <td>0.0</td>\n",
       "      <td>0.000</td>\n",
       "      <td>0.0</td>\n",
       "      <td>14.0</td>\n",
       "    </tr>\n",
       "    <tr>\n",
       "      <th>GALNS</th>\n",
       "      <td>0.0</td>\n",
       "      <td>3.0</td>\n",
       "      <td>0.0</td>\n",
       "      <td>1.024</td>\n",
       "      <td>0.0</td>\n",
       "      <td>13.481</td>\n",
       "      <td>3.99</td>\n",
       "      <td>14.0</td>\n",
       "      <td>1.0</td>\n",
       "      <td>0.0</td>\n",
       "      <td>1.968</td>\n",
       "      <td>0.0</td>\n",
       "      <td>2.0</td>\n",
       "    </tr>\n",
       "  </tbody>\n",
       "</table>\n",
       "</div>"
      ],
      "text/plain": [
       "            090H08  090J21  090P21  090M11  090P05  090K07  073D13  073O11  \\\n",
       "KRTAP4-7       0.0     0.0     0.0   0.000     0.0   0.000    0.00     0.0   \n",
       "NKX2-1-AS1     0.0     0.0     0.0   0.000     0.0   0.000    0.00     0.0   \n",
       "TAF5L          0.0     0.0     0.0   0.000     0.0   0.000    0.00     0.0   \n",
       "CYTH3          0.0     0.0     0.0   3.000     0.0   0.000    0.00     0.0   \n",
       "GALNS          0.0     3.0     0.0   1.024     0.0  13.481    3.99    14.0   \n",
       "\n",
       "            073K13  073B18  073G07  090D10  090A17  \n",
       "KRTAP4-7       0.0     0.0   0.000     0.0     0.0  \n",
       "NKX2-1-AS1     0.0     0.0   0.000     0.0     0.0  \n",
       "TAF5L          0.0     0.0   0.000     0.0     0.0  \n",
       "CYTH3          0.0     0.0   0.000     0.0    14.0  \n",
       "GALNS          1.0     0.0   1.968     0.0     2.0  "
      ]
     },
     "execution_count": 186,
     "metadata": {},
     "output_type": "execute_result"
    }
   ],
   "source": [
    "dfRand.head()"
   ]
  },
  {
   "cell_type": "code",
   "execution_count": 187,
   "id": "a7982330",
   "metadata": {
    "collapsed": true
   },
   "outputs": [
    {
     "data": {
      "text/html": [
       "<div>\n",
       "<style scoped>\n",
       "    .dataframe tbody tr th:only-of-type {\n",
       "        vertical-align: middle;\n",
       "    }\n",
       "\n",
       "    .dataframe tbody tr th {\n",
       "        vertical-align: top;\n",
       "    }\n",
       "\n",
       "    .dataframe thead th {\n",
       "        text-align: right;\n",
       "    }\n",
       "</style>\n",
       "<table border=\"1\" class=\"dataframe\">\n",
       "  <thead>\n",
       "    <tr style=\"text-align: right;\">\n",
       "      <th></th>\n",
       "      <th>090H08</th>\n",
       "      <th>090J21</th>\n",
       "      <th>090P21</th>\n",
       "      <th>090M11</th>\n",
       "      <th>090P05</th>\n",
       "      <th>090K07</th>\n",
       "      <th>073D13</th>\n",
       "      <th>073O11</th>\n",
       "      <th>073K13</th>\n",
       "      <th>073B18</th>\n",
       "      <th>073G07</th>\n",
       "      <th>090D10</th>\n",
       "      <th>090A17</th>\n",
       "    </tr>\n",
       "  </thead>\n",
       "  <tbody>\n",
       "    <tr>\n",
       "      <th>SPRY4-AS1</th>\n",
       "      <td>0.0</td>\n",
       "      <td>0.0</td>\n",
       "      <td>0.00</td>\n",
       "      <td>0.000</td>\n",
       "      <td>0.000</td>\n",
       "      <td>0.0</td>\n",
       "      <td>0.0</td>\n",
       "      <td>0.0</td>\n",
       "      <td>0.0</td>\n",
       "      <td>0.000</td>\n",
       "      <td>1.0</td>\n",
       "      <td>0.000</td>\n",
       "      <td>0.0</td>\n",
       "    </tr>\n",
       "    <tr>\n",
       "      <th>LCORL</th>\n",
       "      <td>0.0</td>\n",
       "      <td>3.0</td>\n",
       "      <td>174.91</td>\n",
       "      <td>2.003</td>\n",
       "      <td>2.001</td>\n",
       "      <td>0.0</td>\n",
       "      <td>0.0</td>\n",
       "      <td>0.0</td>\n",
       "      <td>6.0</td>\n",
       "      <td>1.021</td>\n",
       "      <td>267.0</td>\n",
       "      <td>0.000</td>\n",
       "      <td>3.0</td>\n",
       "    </tr>\n",
       "    <tr>\n",
       "      <th>HMGCL</th>\n",
       "      <td>0.0</td>\n",
       "      <td>0.0</td>\n",
       "      <td>0.00</td>\n",
       "      <td>0.000</td>\n",
       "      <td>0.000</td>\n",
       "      <td>40.0</td>\n",
       "      <td>0.0</td>\n",
       "      <td>197.0</td>\n",
       "      <td>0.0</td>\n",
       "      <td>2.192</td>\n",
       "      <td>220.0</td>\n",
       "      <td>4.592</td>\n",
       "      <td>0.0</td>\n",
       "    </tr>\n",
       "    <tr>\n",
       "      <th>RN7SKP132</th>\n",
       "      <td>0.0</td>\n",
       "      <td>0.0</td>\n",
       "      <td>0.00</td>\n",
       "      <td>0.000</td>\n",
       "      <td>0.000</td>\n",
       "      <td>0.0</td>\n",
       "      <td>0.0</td>\n",
       "      <td>0.0</td>\n",
       "      <td>0.0</td>\n",
       "      <td>0.000</td>\n",
       "      <td>0.0</td>\n",
       "      <td>0.000</td>\n",
       "      <td>0.0</td>\n",
       "    </tr>\n",
       "    <tr>\n",
       "      <th>LINC01701</th>\n",
       "      <td>0.0</td>\n",
       "      <td>0.0</td>\n",
       "      <td>0.00</td>\n",
       "      <td>0.000</td>\n",
       "      <td>0.000</td>\n",
       "      <td>0.0</td>\n",
       "      <td>0.0</td>\n",
       "      <td>0.0</td>\n",
       "      <td>0.0</td>\n",
       "      <td>0.000</td>\n",
       "      <td>0.0</td>\n",
       "      <td>0.000</td>\n",
       "      <td>0.0</td>\n",
       "    </tr>\n",
       "  </tbody>\n",
       "</table>\n",
       "</div>"
      ],
      "text/plain": [
       "           090H08  090J21  090P21  090M11  090P05  090K07  073D13  073O11  \\\n",
       "SPRY4-AS1     0.0     0.0    0.00   0.000   0.000     0.0     0.0     0.0   \n",
       "LCORL         0.0     3.0  174.91   2.003   2.001     0.0     0.0     0.0   \n",
       "HMGCL         0.0     0.0    0.00   0.000   0.000    40.0     0.0   197.0   \n",
       "RN7SKP132     0.0     0.0    0.00   0.000   0.000     0.0     0.0     0.0   \n",
       "LINC01701     0.0     0.0    0.00   0.000   0.000     0.0     0.0     0.0   \n",
       "\n",
       "           073K13  073B18  073G07  090D10  090A17  \n",
       "SPRY4-AS1     0.0   0.000     1.0   0.000     0.0  \n",
       "LCORL         6.0   1.021   267.0   0.000     3.0  \n",
       "HMGCL         0.0   2.192   220.0   4.592     0.0  \n",
       "RN7SKP132     0.0   0.000     0.0   0.000     0.0  \n",
       "LINC01701     0.0   0.000     0.0   0.000     0.0  "
      ]
     },
     "execution_count": 187,
     "metadata": {},
     "output_type": "execute_result"
    }
   ],
   "source": [
    "dfRand.tail()"
   ]
  },
  {
   "cell_type": "code",
   "execution_count": 192,
   "id": "e5ba36c7",
   "metadata": {
    "collapsed": true
   },
   "outputs": [
    {
     "name": "stdout",
     "output_type": "stream",
     "text": [
      "<class 'pandas.core.frame.DataFrame'>\n",
      "Index: 2030 entries, KRTAP4-7 to LINC01701\n",
      "Data columns (total 13 columns):\n",
      " #   Column  Non-Null Count  Dtype  \n",
      "---  ------  --------------  -----  \n",
      " 0   090H08  250 non-null    float64\n",
      " 1   090J21  416 non-null    float64\n",
      " 2   090P21  309 non-null    float64\n",
      " 3   090M11  353 non-null    float64\n",
      " 4   090P05  313 non-null    float64\n",
      " 5   090K07  305 non-null    float64\n",
      " 6   073D13  390 non-null    float64\n",
      " 7   073O11  353 non-null    float64\n",
      " 8   073K13  392 non-null    float64\n",
      " 9   073B18  292 non-null    float64\n",
      " 10  073G07  383 non-null    float64\n",
      " 11  090D10  263 non-null    float64\n",
      " 12  090A17  400 non-null    float64\n",
      "dtypes: float64(13)\n",
      "memory usage: 222.0+ KB\n"
     ]
    }
   ],
   "source": [
    "dfRandzeros.info(show_counts=True)"
   ]
  },
  {
   "cell_type": "code",
   "execution_count": 195,
   "id": "55064cc5",
   "metadata": {},
   "outputs": [
    {
     "data": {
      "text/plain": [
       "0.8325502084122773"
      ]
     },
     "execution_count": 195,
     "metadata": {},
     "output_type": "execute_result"
    }
   ],
   "source": [
    "dfRandzeros.isna().sum().sum() / dfRandzeros.size"
   ]
  },
  {
   "cell_type": "code",
   "execution_count": 190,
   "id": "52028e77",
   "metadata": {
    "collapsed": true
   },
   "outputs": [
    {
     "name": "stdout",
     "output_type": "stream",
     "text": [
      "<class 'pandas.core.frame.DataFrame'>\n",
      "Index: 2030 entries, KRTAP4-7 to LINC01701\n",
      "Data columns (total 13 columns):\n",
      " #   Column  Non-Null Count  Dtype  \n",
      "---  ------  --------------  -----  \n",
      " 0   090H08  2030 non-null   float64\n",
      " 1   090J21  2030 non-null   float64\n",
      " 2   090P21  2030 non-null   float64\n",
      " 3   090M11  2030 non-null   float64\n",
      " 4   090P05  2030 non-null   float64\n",
      " 5   090K07  2030 non-null   float64\n",
      " 6   073D13  2030 non-null   float64\n",
      " 7   073O11  2030 non-null   float64\n",
      " 8   073K13  2030 non-null   float64\n",
      " 9   073B18  2030 non-null   float64\n",
      " 10  073G07  2030 non-null   float64\n",
      " 11  090D10  2030 non-null   float64\n",
      " 12  090A17  2030 non-null   float64\n",
      "dtypes: float64(13)\n",
      "memory usage: 222.0+ KB\n"
     ]
    }
   ],
   "source": [
    "dfRand.info(show_counts=True)"
   ]
  },
  {
   "cell_type": "code",
   "execution_count": 196,
   "id": "20fa5b87",
   "metadata": {
    "collapsed": true
   },
   "outputs": [
    {
     "data": {
      "text/html": [
       "<div>\n",
       "<style scoped>\n",
       "    .dataframe tbody tr th:only-of-type {\n",
       "        vertical-align: middle;\n",
       "    }\n",
       "\n",
       "    .dataframe tbody tr th {\n",
       "        vertical-align: top;\n",
       "    }\n",
       "\n",
       "    .dataframe thead th {\n",
       "        text-align: right;\n",
       "    }\n",
       "</style>\n",
       "<table border=\"1\" class=\"dataframe\">\n",
       "  <thead>\n",
       "    <tr style=\"text-align: right;\">\n",
       "      <th></th>\n",
       "      <th>090H08</th>\n",
       "      <th>090J21</th>\n",
       "      <th>090P21</th>\n",
       "      <th>090M11</th>\n",
       "      <th>090P05</th>\n",
       "      <th>090K07</th>\n",
       "      <th>073D13</th>\n",
       "      <th>073O11</th>\n",
       "      <th>073K13</th>\n",
       "      <th>073B18</th>\n",
       "      <th>073G07</th>\n",
       "      <th>090D10</th>\n",
       "      <th>090A17</th>\n",
       "    </tr>\n",
       "  </thead>\n",
       "  <tbody>\n",
       "    <tr>\n",
       "      <th>count</th>\n",
       "      <td>2030.000000</td>\n",
       "      <td>2030.000000</td>\n",
       "      <td>2030.000000</td>\n",
       "      <td>2030.000000</td>\n",
       "      <td>2030.000000</td>\n",
       "      <td>2030.000000</td>\n",
       "      <td>2030.000000</td>\n",
       "      <td>2030.000000</td>\n",
       "      <td>2030.000000</td>\n",
       "      <td>2030.000000</td>\n",
       "      <td>2030.000000</td>\n",
       "      <td>2030.000000</td>\n",
       "      <td>2030.000000</td>\n",
       "    </tr>\n",
       "    <tr>\n",
       "      <th>mean</th>\n",
       "      <td>6.029975</td>\n",
       "      <td>18.246116</td>\n",
       "      <td>26.100164</td>\n",
       "      <td>11.990485</td>\n",
       "      <td>11.082391</td>\n",
       "      <td>13.541604</td>\n",
       "      <td>5.426416</td>\n",
       "      <td>12.409922</td>\n",
       "      <td>21.210220</td>\n",
       "      <td>5.955250</td>\n",
       "      <td>19.834555</td>\n",
       "      <td>9.721677</td>\n",
       "      <td>7.158219</td>\n",
       "    </tr>\n",
       "    <tr>\n",
       "      <th>std</th>\n",
       "      <td>39.094974</td>\n",
       "      <td>172.561551</td>\n",
       "      <td>390.279556</td>\n",
       "      <td>69.511941</td>\n",
       "      <td>81.097392</td>\n",
       "      <td>110.873811</td>\n",
       "      <td>33.531613</td>\n",
       "      <td>79.401039</td>\n",
       "      <td>107.008211</td>\n",
       "      <td>46.318886</td>\n",
       "      <td>101.113315</td>\n",
       "      <td>68.198449</td>\n",
       "      <td>62.673827</td>\n",
       "    </tr>\n",
       "    <tr>\n",
       "      <th>min</th>\n",
       "      <td>0.000000</td>\n",
       "      <td>0.000000</td>\n",
       "      <td>0.000000</td>\n",
       "      <td>0.000000</td>\n",
       "      <td>0.000000</td>\n",
       "      <td>0.000000</td>\n",
       "      <td>0.000000</td>\n",
       "      <td>0.000000</td>\n",
       "      <td>0.000000</td>\n",
       "      <td>0.000000</td>\n",
       "      <td>0.000000</td>\n",
       "      <td>0.000000</td>\n",
       "      <td>0.000000</td>\n",
       "    </tr>\n",
       "    <tr>\n",
       "      <th>25%</th>\n",
       "      <td>0.000000</td>\n",
       "      <td>0.000000</td>\n",
       "      <td>0.000000</td>\n",
       "      <td>0.000000</td>\n",
       "      <td>0.000000</td>\n",
       "      <td>0.000000</td>\n",
       "      <td>0.000000</td>\n",
       "      <td>0.000000</td>\n",
       "      <td>0.000000</td>\n",
       "      <td>0.000000</td>\n",
       "      <td>0.000000</td>\n",
       "      <td>0.000000</td>\n",
       "      <td>0.000000</td>\n",
       "    </tr>\n",
       "    <tr>\n",
       "      <th>50%</th>\n",
       "      <td>0.000000</td>\n",
       "      <td>0.000000</td>\n",
       "      <td>0.000000</td>\n",
       "      <td>0.000000</td>\n",
       "      <td>0.000000</td>\n",
       "      <td>0.000000</td>\n",
       "      <td>0.000000</td>\n",
       "      <td>0.000000</td>\n",
       "      <td>0.000000</td>\n",
       "      <td>0.000000</td>\n",
       "      <td>0.000000</td>\n",
       "      <td>0.000000</td>\n",
       "      <td>0.000000</td>\n",
       "    </tr>\n",
       "    <tr>\n",
       "      <th>75%</th>\n",
       "      <td>0.000000</td>\n",
       "      <td>0.000000</td>\n",
       "      <td>0.000000</td>\n",
       "      <td>0.000000</td>\n",
       "      <td>0.000000</td>\n",
       "      <td>0.000000</td>\n",
       "      <td>0.000000</td>\n",
       "      <td>0.000000</td>\n",
       "      <td>0.000000</td>\n",
       "      <td>0.000000</td>\n",
       "      <td>0.000000</td>\n",
       "      <td>0.000000</td>\n",
       "      <td>0.000000</td>\n",
       "    </tr>\n",
       "    <tr>\n",
       "      <th>max</th>\n",
       "      <td>724.000000</td>\n",
       "      <td>6937.939000</td>\n",
       "      <td>16330.103000</td>\n",
       "      <td>1849.000000</td>\n",
       "      <td>2600.023000</td>\n",
       "      <td>3867.000000</td>\n",
       "      <td>968.460000</td>\n",
       "      <td>1880.000000</td>\n",
       "      <td>1749.133000</td>\n",
       "      <td>1233.615000</td>\n",
       "      <td>2331.846000</td>\n",
       "      <td>1804.000000</td>\n",
       "      <td>2324.574000</td>\n",
       "    </tr>\n",
       "  </tbody>\n",
       "</table>\n",
       "</div>"
      ],
      "text/plain": [
       "            090H08       090J21        090P21       090M11       090P05  \\\n",
       "count  2030.000000  2030.000000   2030.000000  2030.000000  2030.000000   \n",
       "mean      6.029975    18.246116     26.100164    11.990485    11.082391   \n",
       "std      39.094974   172.561551    390.279556    69.511941    81.097392   \n",
       "min       0.000000     0.000000      0.000000     0.000000     0.000000   \n",
       "25%       0.000000     0.000000      0.000000     0.000000     0.000000   \n",
       "50%       0.000000     0.000000      0.000000     0.000000     0.000000   \n",
       "75%       0.000000     0.000000      0.000000     0.000000     0.000000   \n",
       "max     724.000000  6937.939000  16330.103000  1849.000000  2600.023000   \n",
       "\n",
       "            090K07       073D13       073O11       073K13       073B18  \\\n",
       "count  2030.000000  2030.000000  2030.000000  2030.000000  2030.000000   \n",
       "mean     13.541604     5.426416    12.409922    21.210220     5.955250   \n",
       "std     110.873811    33.531613    79.401039   107.008211    46.318886   \n",
       "min       0.000000     0.000000     0.000000     0.000000     0.000000   \n",
       "25%       0.000000     0.000000     0.000000     0.000000     0.000000   \n",
       "50%       0.000000     0.000000     0.000000     0.000000     0.000000   \n",
       "75%       0.000000     0.000000     0.000000     0.000000     0.000000   \n",
       "max    3867.000000   968.460000  1880.000000  1749.133000  1233.615000   \n",
       "\n",
       "            073G07       090D10       090A17  \n",
       "count  2030.000000  2030.000000  2030.000000  \n",
       "mean     19.834555     9.721677     7.158219  \n",
       "std     101.113315    68.198449    62.673827  \n",
       "min       0.000000     0.000000     0.000000  \n",
       "25%       0.000000     0.000000     0.000000  \n",
       "50%       0.000000     0.000000     0.000000  \n",
       "75%       0.000000     0.000000     0.000000  \n",
       "max    2331.846000  1804.000000  2324.574000  "
      ]
     },
     "execution_count": 196,
     "metadata": {},
     "output_type": "execute_result"
    }
   ],
   "source": [
    "dfRand.describe()"
   ]
  },
  {
   "cell_type": "code",
   "execution_count": 197,
   "id": "06cbbbf6",
   "metadata": {
    "collapsed": true
   },
   "outputs": [
    {
     "data": {
      "text/html": [
       "<div>\n",
       "<style scoped>\n",
       "    .dataframe tbody tr th:only-of-type {\n",
       "        vertical-align: middle;\n",
       "    }\n",
       "\n",
       "    .dataframe tbody tr th {\n",
       "        vertical-align: top;\n",
       "    }\n",
       "\n",
       "    .dataframe thead th {\n",
       "        text-align: right;\n",
       "    }\n",
       "</style>\n",
       "<table border=\"1\" class=\"dataframe\">\n",
       "  <thead>\n",
       "    <tr style=\"text-align: right;\">\n",
       "      <th></th>\n",
       "      <th>090H08</th>\n",
       "      <th>090J21</th>\n",
       "      <th>090P21</th>\n",
       "      <th>090M11</th>\n",
       "      <th>090P05</th>\n",
       "      <th>090K07</th>\n",
       "      <th>073D13</th>\n",
       "      <th>073O11</th>\n",
       "      <th>073K13</th>\n",
       "      <th>073B18</th>\n",
       "      <th>073G07</th>\n",
       "      <th>090D10</th>\n",
       "      <th>090A17</th>\n",
       "    </tr>\n",
       "  </thead>\n",
       "  <tbody>\n",
       "    <tr>\n",
       "      <th>count</th>\n",
       "      <td>250.000000</td>\n",
       "      <td>416.000000</td>\n",
       "      <td>309.000000</td>\n",
       "      <td>353.000000</td>\n",
       "      <td>313.000000</td>\n",
       "      <td>305.000000</td>\n",
       "      <td>390.000000</td>\n",
       "      <td>353.000000</td>\n",
       "      <td>392.000000</td>\n",
       "      <td>292.000000</td>\n",
       "      <td>383.000000</td>\n",
       "      <td>263.000000</td>\n",
       "      <td>400.000000</td>\n",
       "    </tr>\n",
       "    <tr>\n",
       "      <th>mean</th>\n",
       "      <td>48.963400</td>\n",
       "      <td>89.037538</td>\n",
       "      <td>171.467097</td>\n",
       "      <td>68.953779</td>\n",
       "      <td>71.876211</td>\n",
       "      <td>90.129364</td>\n",
       "      <td>28.245192</td>\n",
       "      <td>71.365839</td>\n",
       "      <td>109.838638</td>\n",
       "      <td>41.401226</td>\n",
       "      <td>105.128321</td>\n",
       "      <td>75.038042</td>\n",
       "      <td>36.327962</td>\n",
       "    </tr>\n",
       "    <tr>\n",
       "      <th>std</th>\n",
       "      <td>101.704676</td>\n",
       "      <td>373.186984</td>\n",
       "      <td>989.148042</td>\n",
       "      <td>154.638690</td>\n",
       "      <td>195.924885</td>\n",
       "      <td>274.084272</td>\n",
       "      <td>72.238924</td>\n",
       "      <td>179.223828</td>\n",
       "      <td>222.847965</td>\n",
       "      <td>116.131578</td>\n",
       "      <td>212.871279</td>\n",
       "      <td>176.348870</td>\n",
       "      <td>137.522461</td>\n",
       "    </tr>\n",
       "    <tr>\n",
       "      <th>min</th>\n",
       "      <td>0.500000</td>\n",
       "      <td>0.982000</td>\n",
       "      <td>0.511000</td>\n",
       "      <td>0.773000</td>\n",
       "      <td>0.787000</td>\n",
       "      <td>0.500000</td>\n",
       "      <td>0.832000</td>\n",
       "      <td>0.798000</td>\n",
       "      <td>0.986000</td>\n",
       "      <td>0.877000</td>\n",
       "      <td>0.972000</td>\n",
       "      <td>0.972000</td>\n",
       "      <td>0.992000</td>\n",
       "    </tr>\n",
       "    <tr>\n",
       "      <th>25%</th>\n",
       "      <td>2.000000</td>\n",
       "      <td>4.000000</td>\n",
       "      <td>2.958000</td>\n",
       "      <td>3.393000</td>\n",
       "      <td>2.011000</td>\n",
       "      <td>3.037000</td>\n",
       "      <td>2.152500</td>\n",
       "      <td>4.000000</td>\n",
       "      <td>4.164750</td>\n",
       "      <td>2.723500</td>\n",
       "      <td>3.006500</td>\n",
       "      <td>2.101500</td>\n",
       "      <td>2.087250</td>\n",
       "    </tr>\n",
       "    <tr>\n",
       "      <th>50%</th>\n",
       "      <td>7.000000</td>\n",
       "      <td>15.511500</td>\n",
       "      <td>17.000000</td>\n",
       "      <td>15.842000</td>\n",
       "      <td>6.631000</td>\n",
       "      <td>13.000000</td>\n",
       "      <td>7.000000</td>\n",
       "      <td>25.538000</td>\n",
       "      <td>18.316500</td>\n",
       "      <td>8.172500</td>\n",
       "      <td>19.000000</td>\n",
       "      <td>9.217000</td>\n",
       "      <td>9.950500</td>\n",
       "    </tr>\n",
       "    <tr>\n",
       "      <th>75%</th>\n",
       "      <td>32.690750</td>\n",
       "      <td>86.076000</td>\n",
       "      <td>131.000000</td>\n",
       "      <td>89.000000</td>\n",
       "      <td>38.312000</td>\n",
       "      <td>81.897000</td>\n",
       "      <td>24.574000</td>\n",
       "      <td>77.000000</td>\n",
       "      <td>107.750000</td>\n",
       "      <td>24.061250</td>\n",
       "      <td>135.500000</td>\n",
       "      <td>64.266000</td>\n",
       "      <td>30.000000</td>\n",
       "    </tr>\n",
       "    <tr>\n",
       "      <th>max</th>\n",
       "      <td>724.000000</td>\n",
       "      <td>6937.939000</td>\n",
       "      <td>16330.103000</td>\n",
       "      <td>1849.000000</td>\n",
       "      <td>2600.023000</td>\n",
       "      <td>3867.000000</td>\n",
       "      <td>968.460000</td>\n",
       "      <td>1880.000000</td>\n",
       "      <td>1749.133000</td>\n",
       "      <td>1233.615000</td>\n",
       "      <td>2331.846000</td>\n",
       "      <td>1804.000000</td>\n",
       "      <td>2324.574000</td>\n",
       "    </tr>\n",
       "  </tbody>\n",
       "</table>\n",
       "</div>"
      ],
      "text/plain": [
       "           090H08       090J21        090P21       090M11       090P05  \\\n",
       "count  250.000000   416.000000    309.000000   353.000000   313.000000   \n",
       "mean    48.963400    89.037538    171.467097    68.953779    71.876211   \n",
       "std    101.704676   373.186984    989.148042   154.638690   195.924885   \n",
       "min      0.500000     0.982000      0.511000     0.773000     0.787000   \n",
       "25%      2.000000     4.000000      2.958000     3.393000     2.011000   \n",
       "50%      7.000000    15.511500     17.000000    15.842000     6.631000   \n",
       "75%     32.690750    86.076000    131.000000    89.000000    38.312000   \n",
       "max    724.000000  6937.939000  16330.103000  1849.000000  2600.023000   \n",
       "\n",
       "            090K07      073D13       073O11       073K13       073B18  \\\n",
       "count   305.000000  390.000000   353.000000   392.000000   292.000000   \n",
       "mean     90.129364   28.245192    71.365839   109.838638    41.401226   \n",
       "std     274.084272   72.238924   179.223828   222.847965   116.131578   \n",
       "min       0.500000    0.832000     0.798000     0.986000     0.877000   \n",
       "25%       3.037000    2.152500     4.000000     4.164750     2.723500   \n",
       "50%      13.000000    7.000000    25.538000    18.316500     8.172500   \n",
       "75%      81.897000   24.574000    77.000000   107.750000    24.061250   \n",
       "max    3867.000000  968.460000  1880.000000  1749.133000  1233.615000   \n",
       "\n",
       "            073G07       090D10       090A17  \n",
       "count   383.000000   263.000000   400.000000  \n",
       "mean    105.128321    75.038042    36.327962  \n",
       "std     212.871279   176.348870   137.522461  \n",
       "min       0.972000     0.972000     0.992000  \n",
       "25%       3.006500     2.101500     2.087250  \n",
       "50%      19.000000     9.217000     9.950500  \n",
       "75%     135.500000    64.266000    30.000000  \n",
       "max    2331.846000  1804.000000  2324.574000  "
      ]
     },
     "execution_count": 197,
     "metadata": {},
     "output_type": "execute_result"
    }
   ],
   "source": [
    "dfRandzeros.describe()"
   ]
  },
  {
   "cell_type": "code",
   "execution_count": 18,
   "id": "2557cde1",
   "metadata": {},
   "outputs": [
    {
     "data": {
      "text/html": [
       "<div>\n",
       "<style scoped>\n",
       "    .dataframe tbody tr th:only-of-type {\n",
       "        vertical-align: middle;\n",
       "    }\n",
       "\n",
       "    .dataframe tbody tr th {\n",
       "        vertical-align: top;\n",
       "    }\n",
       "\n",
       "    .dataframe thead th {\n",
       "        text-align: right;\n",
       "    }\n",
       "</style>\n",
       "<table border=\"1\" class=\"dataframe\">\n",
       "  <thead>\n",
       "    <tr style=\"text-align: right;\">\n",
       "      <th></th>\n",
       "      <th>090H08</th>\n",
       "      <th>090J21</th>\n",
       "      <th>090P21</th>\n",
       "      <th>090M11</th>\n",
       "      <th>090P05</th>\n",
       "      <th>090K07</th>\n",
       "      <th>073D13</th>\n",
       "      <th>073O11</th>\n",
       "      <th>073K13</th>\n",
       "      <th>073B18</th>\n",
       "      <th>073G07</th>\n",
       "      <th>090D10</th>\n",
       "      <th>090A17</th>\n",
       "    </tr>\n",
       "  </thead>\n",
       "  <tbody>\n",
       "    <tr>\n",
       "      <th>count</th>\n",
       "      <td>250.000000</td>\n",
       "      <td>416.000000</td>\n",
       "      <td>309.000000</td>\n",
       "      <td>353.000000</td>\n",
       "      <td>313.000000</td>\n",
       "      <td>305.000000</td>\n",
       "      <td>390.000000</td>\n",
       "      <td>353.000000</td>\n",
       "      <td>392.000000</td>\n",
       "      <td>292.000000</td>\n",
       "      <td>383.000000</td>\n",
       "      <td>263.000000</td>\n",
       "      <td>400.000000</td>\n",
       "    </tr>\n",
       "    <tr>\n",
       "      <th>mean</th>\n",
       "      <td>48.963400</td>\n",
       "      <td>89.037538</td>\n",
       "      <td>171.467097</td>\n",
       "      <td>68.953779</td>\n",
       "      <td>71.876211</td>\n",
       "      <td>90.129364</td>\n",
       "      <td>28.245192</td>\n",
       "      <td>71.365839</td>\n",
       "      <td>109.838638</td>\n",
       "      <td>41.401226</td>\n",
       "      <td>105.128321</td>\n",
       "      <td>75.038042</td>\n",
       "      <td>36.327962</td>\n",
       "    </tr>\n",
       "    <tr>\n",
       "      <th>std</th>\n",
       "      <td>101.704676</td>\n",
       "      <td>373.186984</td>\n",
       "      <td>989.148042</td>\n",
       "      <td>154.638690</td>\n",
       "      <td>195.924885</td>\n",
       "      <td>274.084272</td>\n",
       "      <td>72.238924</td>\n",
       "      <td>179.223828</td>\n",
       "      <td>222.847965</td>\n",
       "      <td>116.131578</td>\n",
       "      <td>212.871279</td>\n",
       "      <td>176.348870</td>\n",
       "      <td>137.522461</td>\n",
       "    </tr>\n",
       "    <tr>\n",
       "      <th>min</th>\n",
       "      <td>0.500000</td>\n",
       "      <td>0.982000</td>\n",
       "      <td>0.511000</td>\n",
       "      <td>0.773000</td>\n",
       "      <td>0.787000</td>\n",
       "      <td>0.500000</td>\n",
       "      <td>0.832000</td>\n",
       "      <td>0.798000</td>\n",
       "      <td>0.986000</td>\n",
       "      <td>0.877000</td>\n",
       "      <td>0.972000</td>\n",
       "      <td>0.972000</td>\n",
       "      <td>0.992000</td>\n",
       "    </tr>\n",
       "    <tr>\n",
       "      <th>25%</th>\n",
       "      <td>2.000000</td>\n",
       "      <td>4.000000</td>\n",
       "      <td>2.958000</td>\n",
       "      <td>3.393000</td>\n",
       "      <td>2.011000</td>\n",
       "      <td>3.037000</td>\n",
       "      <td>2.152500</td>\n",
       "      <td>4.000000</td>\n",
       "      <td>4.164750</td>\n",
       "      <td>2.723500</td>\n",
       "      <td>3.006500</td>\n",
       "      <td>2.101500</td>\n",
       "      <td>2.087250</td>\n",
       "    </tr>\n",
       "    <tr>\n",
       "      <th>50%</th>\n",
       "      <td>7.000000</td>\n",
       "      <td>15.511500</td>\n",
       "      <td>17.000000</td>\n",
       "      <td>15.842000</td>\n",
       "      <td>6.631000</td>\n",
       "      <td>13.000000</td>\n",
       "      <td>7.000000</td>\n",
       "      <td>25.538000</td>\n",
       "      <td>18.316500</td>\n",
       "      <td>8.172500</td>\n",
       "      <td>19.000000</td>\n",
       "      <td>9.217000</td>\n",
       "      <td>9.950500</td>\n",
       "    </tr>\n",
       "    <tr>\n",
       "      <th>75%</th>\n",
       "      <td>32.690750</td>\n",
       "      <td>86.076000</td>\n",
       "      <td>131.000000</td>\n",
       "      <td>89.000000</td>\n",
       "      <td>38.312000</td>\n",
       "      <td>81.897000</td>\n",
       "      <td>24.574000</td>\n",
       "      <td>77.000000</td>\n",
       "      <td>107.750000</td>\n",
       "      <td>24.061250</td>\n",
       "      <td>135.500000</td>\n",
       "      <td>64.266000</td>\n",
       "      <td>30.000000</td>\n",
       "    </tr>\n",
       "    <tr>\n",
       "      <th>max</th>\n",
       "      <td>724.000000</td>\n",
       "      <td>6937.939000</td>\n",
       "      <td>16330.103000</td>\n",
       "      <td>1849.000000</td>\n",
       "      <td>2600.023000</td>\n",
       "      <td>3867.000000</td>\n",
       "      <td>968.460000</td>\n",
       "      <td>1880.000000</td>\n",
       "      <td>1749.133000</td>\n",
       "      <td>1233.615000</td>\n",
       "      <td>2331.846000</td>\n",
       "      <td>1804.000000</td>\n",
       "      <td>2324.574000</td>\n",
       "    </tr>\n",
       "  </tbody>\n",
       "</table>\n",
       "</div>"
      ],
      "text/plain": [
       "           090H08       090J21        090P21       090M11       090P05  \\\n",
       "count  250.000000   416.000000    309.000000   353.000000   313.000000   \n",
       "mean    48.963400    89.037538    171.467097    68.953779    71.876211   \n",
       "std    101.704676   373.186984    989.148042   154.638690   195.924885   \n",
       "min      0.500000     0.982000      0.511000     0.773000     0.787000   \n",
       "25%      2.000000     4.000000      2.958000     3.393000     2.011000   \n",
       "50%      7.000000    15.511500     17.000000    15.842000     6.631000   \n",
       "75%     32.690750    86.076000    131.000000    89.000000    38.312000   \n",
       "max    724.000000  6937.939000  16330.103000  1849.000000  2600.023000   \n",
       "\n",
       "            090K07      073D13       073O11       073K13       073B18  \\\n",
       "count   305.000000  390.000000   353.000000   392.000000   292.000000   \n",
       "mean     90.129364   28.245192    71.365839   109.838638    41.401226   \n",
       "std     274.084272   72.238924   179.223828   222.847965   116.131578   \n",
       "min       0.500000    0.832000     0.798000     0.986000     0.877000   \n",
       "25%       3.037000    2.152500     4.000000     4.164750     2.723500   \n",
       "50%      13.000000    7.000000    25.538000    18.316500     8.172500   \n",
       "75%      81.897000   24.574000    77.000000   107.750000    24.061250   \n",
       "max    3867.000000  968.460000  1880.000000  1749.133000  1233.615000   \n",
       "\n",
       "            073G07       090D10       090A17  \n",
       "count   383.000000   263.000000   400.000000  \n",
       "mean    105.128321    75.038042    36.327962  \n",
       "std     212.871279   176.348870   137.522461  \n",
       "min       0.972000     0.972000     0.992000  \n",
       "25%       3.006500     2.101500     2.087250  \n",
       "50%      19.000000     9.217000     9.950500  \n",
       "75%     135.500000    64.266000    30.000000  \n",
       "max    2331.846000  1804.000000  2324.574000  "
      ]
     },
     "execution_count": 18,
     "metadata": {},
     "output_type": "execute_result"
    }
   ],
   "source": [
    "dfRandzeros.describe()"
   ]
  },
  {
   "cell_type": "code",
   "execution_count": 20,
   "id": "f291eded",
   "metadata": {},
   "outputs": [
    {
     "data": {
      "image/png": "[encoded data removed]",
      "text/plain": [
       "<Figure size 640x480 with 1 Axes>"
      ]
     },
     "metadata": {},
     "output_type": "display_data"
    },
    {
     "data": {
      "image/png": "[encoded data removed]",
      "text/plain": [
       "<Figure size 640x480 with 1 Axes>"
      ]
     },
     "metadata": {},
     "output_type": "display_data"
    },
    {
     "data": {
      "image/png": "[encoded data removed]",
      "text/plain": [
       "<Figure size 640x480 with 1 Axes>"
      ]
     },
     "metadata": {},
     "output_type": "display_data"
    },
    {
     "data": {
      "image/png": "[encoded data removed]",
      "text/plain": [
       "<Figure size 640x480 with 1 Axes>"
      ]
     },
     "metadata": {},
     "output_type": "display_data"
    },
    {
     "data": {
      "image/png": "[encoded data removed]",
      "text/plain": [
       "<Figure size 640x480 with 1 Axes>"
      ]
     },
     "metadata": {},
     "output_type": "display_data"
    },
    {
     "data": {
      "image/png": "[encoded data removed]",
      "text/plain": [
       "<Figure size 640x480 with 1 Axes>"
      ]
     },
     "metadata": {},
     "output_type": "display_data"
    },
    {
     "data": {
      "image/png": "[encoded data removed]",
      "text/plain": [
       "<Figure size 640x480 with 1 Axes>"
      ]
     },
     "metadata": {},
     "output_type": "display_data"
    },
    {
     "data": {
      "image/png": "[encoded data removed]",
      "text/plain": [
       "<Figure size 640x480 with 1 Axes>"
      ]
     },
     "metadata": {},
     "output_type": "display_data"
    },
    {
     "data": {
      "image/png": "[encoded data removed]",
      "text/plain": [
       "<Figure size 640x480 with 1 Axes>"
      ]
     },
     "metadata": {},
     "output_type": "display_data"
    },
    {
     "data": {
      "image/png": "[encoded data removed]",
      "text/plain": [
       "<Figure size 640x480 with 1 Axes>"
      ]
     },
     "metadata": {},
     "output_type": "display_data"
    },
    {
     "data": {
      "image/png": "[encoded data removed]",
      "text/plain": [
       "<Figure size 640x480 with 1 Axes>"
      ]
     },
     "metadata": {},
     "output_type": "display_data"
    },
    {
     "data": {
      "image/png": "[encoded data removed]",
      "text/plain": [
       "<Figure size 640x480 with 1 Axes>"
      ]
     },
     "metadata": {},
     "output_type": "display_data"
    },
    {
     "data": {
      "image/png": "[encoded data removed]",
      "text/plain": [
       "<Figure size 640x480 with 1 Axes>"
      ]
     },
     "metadata": {},
     "output_type": "display_data"
    }
   ],
   "source": [
    "for column in dfRandzeros.columns:\n",
    "    plt.hist(dfRandzeros[column], bins=50, range=(0, 300))  # Adjust bins as needed\n",
    "    plt.xlabel(column)\n",
    "    plt.ylabel('Frequency')\n",
    "    plt.title(f'Histogram of {column}')\n",
    "    plt.show()"
   ]
  },
  {
   "cell_type": "code",
   "execution_count": 24,
   "id": "e4836af9",
   "metadata": {
    "scrolled": true
   },
   "outputs": [
    {
     "data": {
      "text/plain": [
       "array([[<Axes: title={'center': '090H08'}>,\n",
       "        <Axes: title={'center': '090J21'}>,\n",
       "        <Axes: title={'center': '090P21'}>,\n",
       "        <Axes: title={'center': '090M11'}>],\n",
       "       [<Axes: title={'center': '090P05'}>,\n",
       "        <Axes: title={'center': '090K07'}>,\n",
       "        <Axes: title={'center': '073D13'}>,\n",
       "        <Axes: title={'center': '073O11'}>],\n",
       "       [<Axes: title={'center': '073K13'}>,\n",
       "        <Axes: title={'center': '073B18'}>,\n",
       "        <Axes: title={'center': '073G07'}>,\n",
       "        <Axes: title={'center': '090D10'}>],\n",
       "       [<Axes: title={'center': '090A17'}>, <Axes: >, <Axes: >, <Axes: >]],\n",
       "      dtype=object)"
      ]
     },
     "execution_count": 24,
     "metadata": {},
     "output_type": "execute_result"
    },
    {
     "data": {
      "image/png": "[encoded data removed]",
      "text/plain": [
       "<Figure size 1500x1500 with 16 Axes>"
      ]
     },
     "metadata": {},
     "output_type": "display_data"
    }
   ],
   "source": [
    "dfRandzeros.hist(bins = 20, range = (0, 1000), figsize=(15, 15))"
   ]
  },
  {
   "cell_type": "code",
   "execution_count": 25,
   "id": "3bf2f761",
   "metadata": {},
   "outputs": [
    {
     "data": {
      "image/png": "[encoded data removed]",
      "text/plain": [
       "<Figure size 1000x600 with 1 Axes>"
      ]
     },
     "metadata": {},
     "output_type": "display_data"
    }
   ],
   "source": [
    "plt.figure(figsize=(10, 6))\n",
    "sns.boxplot(data=dfRandzeros, log_scale = True)\n",
    "plt.xticks(rotation=45)\n",
    "plt.show()"
   ]
  },
  {
   "cell_type": "code",
   "execution_count": 27,
   "id": "df5f7575",
   "metadata": {
    "scrolled": true
   },
   "outputs": [
    {
     "data": {
      "image/png": "[encoded data removed]",
      "text/plain": [
       "<Figure size 1000x800 with 2 Axes>"
      ]
     },
     "metadata": {},
     "output_type": "display_data"
    }
   ],
   "source": [
    "corr_matrix = dfRandzeros.corr()\n",
    "\n",
    "plt.figure(figsize=(10, 8))\n",
    "sns.heatmap(corr_matrix, annot=True, cmap='coolwarm')\n",
    "plt.show()\n",
    "\n",
    "# TODO How can I extract the cells that have the highest correlation with each other?"
   ]
  },
  {
   "cell_type": "markdown",
   "id": "d2d919cb",
   "metadata": {},
   "source": [
    "# Dimensionality Reduction"
   ]
  },
  {
   "cell_type": "markdown",
   "id": "c92207ca",
   "metadata": {},
   "source": [
    "## PCA"
   ]
  },
  {
   "cell_type": "code",
   "execution_count": 127,
   "id": "49f98942",
   "metadata": {
    "scrolled": true
   },
   "outputs": [],
   "source": [
    "scaler = StandardScaler() # instance of the standardscaler class\n",
    "scaled_data = scaler.fit_transform(ctMatrix.T)\n",
    "\n",
    "# Performing \n",
    "pca = PCA(n_components = 2)\n",
    "pca_result = pca.fit_transform(scaled_data)\n",
    "\n",
    "pca_df = pd.DataFrame(pca_result, columns=['PC1', 'PC2'])"
   ]
  },
  {
   "cell_type": "code",
   "execution_count": 128,
   "id": "01dbb07d",
   "metadata": {},
   "outputs": [
    {
     "data": {
      "text/html": [
       "<div>\n",
       "<style scoped>\n",
       "    .dataframe tbody tr th:only-of-type {\n",
       "        vertical-align: middle;\n",
       "    }\n",
       "\n",
       "    .dataframe tbody tr th {\n",
       "        vertical-align: top;\n",
       "    }\n",
       "\n",
       "    .dataframe thead th {\n",
       "        text-align: right;\n",
       "    }\n",
       "</style>\n",
       "<table border=\"1\" class=\"dataframe\">\n",
       "  <thead>\n",
       "    <tr style=\"text-align: right;\">\n",
       "      <th></th>\n",
       "      <th>PC1</th>\n",
       "      <th>PC2</th>\n",
       "    </tr>\n",
       "  </thead>\n",
       "  <tbody>\n",
       "    <tr>\n",
       "      <th>0</th>\n",
       "      <td>-0.455124</td>\n",
       "      <td>-11.112511</td>\n",
       "    </tr>\n",
       "    <tr>\n",
       "      <th>1</th>\n",
       "      <td>21.452682</td>\n",
       "      <td>8.564310</td>\n",
       "    </tr>\n",
       "    <tr>\n",
       "      <th>2</th>\n",
       "      <td>7.165456</td>\n",
       "      <td>19.618905</td>\n",
       "    </tr>\n",
       "    <tr>\n",
       "      <th>3</th>\n",
       "      <td>-19.953244</td>\n",
       "      <td>14.042637</td>\n",
       "    </tr>\n",
       "    <tr>\n",
       "      <th>4</th>\n",
       "      <td>-13.935273</td>\n",
       "      <td>-4.927647</td>\n",
       "    </tr>\n",
       "  </tbody>\n",
       "</table>\n",
       "</div>"
      ],
      "text/plain": [
       "         PC1        PC2\n",
       "0  -0.455124 -11.112511\n",
       "1  21.452682   8.564310\n",
       "2   7.165456  19.618905\n",
       "3 -19.953244  14.042637\n",
       "4 -13.935273  -4.927647"
      ]
     },
     "execution_count": 128,
     "metadata": {},
     "output_type": "execute_result"
    }
   ],
   "source": []
  },
  {
   "cell_type": "code",
   "execution_count": 129,
   "id": "4f0acc6f",
   "metadata": {},
   "outputs": [
    {
     "data": {
      "image/png": "[encoded data removed]",
      "text/plain": [
       "<Figure size 1000x600 with 1 Axes>"
      ]
     },
     "metadata": {},
     "output_type": "display_data"
    }
   ],
   "source": [
    "# Plot the PCA results\n",
    "plt.figure(figsize=(10, 6))\n",
    "sns.scatterplot(x='PC1', y='PC2', data=pca_df)\n",
    "plt.title('PCA of Count Matrix')\n",
    "plt.show()"
   ]
  },
  {
   "cell_type": "code",
   "execution_count": 38,
   "id": "9c320106",
   "metadata": {},
   "outputs": [
    {
     "data": {
      "text/plain": [
       "array([[-0.22878565,  0.        , -0.5465241 , ...,  0.        ,\n",
       "        -0.32924581,  0.25801486],\n",
       "       [-0.22878565,  0.        , -0.49854208, ...,  0.        ,\n",
       "        -0.32924581,  0.5884197 ],\n",
       "       [-0.22878565,  0.        , -0.5475355 , ...,  0.        ,\n",
       "        -0.32924581, -0.34863506],\n",
       "       ...,\n",
       "       [-0.22878565,  0.        ,  1.46440306, ...,  0.        ,\n",
       "         3.38682869,  0.8634545 ],\n",
       "       [-0.19254066,  0.        , -0.4934633 , ...,  0.        ,\n",
       "         1.54975094, -0.34863506],\n",
       "       [-0.22878565,  0.        , -0.56928619, ...,  0.        ,\n",
       "        -0.32924581, -0.34863506]])"
      ]
     },
     "execution_count": 38,
     "metadata": {},
     "output_type": "execute_result"
    }
   ],
   "source": [
    "scaled_data"
   ]
  },
  {
   "cell_type": "markdown",
   "id": "c9bc2921",
   "metadata": {},
   "source": [
    "## K Means clustering"
   ]
  },
  {
   "cell_type": "code",
   "execution_count": 137,
   "id": "f13a137b",
   "metadata": {},
   "outputs": [],
   "source": [
    "kmeans = KMeans()\n",
    "\n",
    "#Standardizing the data\n",
    "scaler = StandardScaler()\n",
    "scaled_data = scaler.fit_transform(ctMatrix_clean)\n",
    "\n",
    "# Perform PCA\n",
    "pca = PCA(n_components = 2)\n",
    "pca_result = pca.fit_transform(scaled_data)\n",
    "\n",
    "#Create a DF of scaled result\n",
    "pca_df = pd.DataFrame(pca_result, columns=['PCA1', 'PCA2'])\n",
    "\n"
   ]
  },
  {
   "cell_type": "code",
   "execution_count": 146,
   "id": "9bcabbbc",
   "metadata": {
    "scrolled": true
   },
   "outputs": [
    {
     "name": "stderr",
     "output_type": "stream",
     "text": [
      "/home/jon/anaconda3/lib/python3.11/site-packages/sklearn/cluster/_kmeans.py:1412: FutureWarning: The default value of `n_init` will change from 10 to 'auto' in 1.4. Set the value of `n_init` explicitly to suppress the warning\n",
      "  super()._check_params_vs_input(X, default_n_init=10)\n",
      "Exception ignored on calling ctypes callback function: <function _ThreadpoolInfo._find_modules_with_dl_iterate_phdr.<locals>.match_module_callback at 0x7f0e957bda80>\n",
      "Traceback (most recent call last):\n",
      "  File \"/home/jon/anaconda3/lib/python3.11/site-packages/threadpoolctl.py\", line 400, in match_module_callback\n",
      "    self._make_module_from_path(filepath)\n",
      "  File \"/home/jon/anaconda3/lib/python3.11/site-packages/threadpoolctl.py\", line 515, in _make_module_from_path\n",
      "    module = module_class(filepath, prefix, user_api, internal_api)\n",
      "             ^^^^^^^^^^^^^^^^^^^^^^^^^^^^^^^^^^^^^^^^^^^^^^^^^^^^^^\n",
      "  File \"/home/jon/anaconda3/lib/python3.11/site-packages/threadpoolctl.py\", line 606, in __init__\n",
      "    self.version = self.get_version()\n",
      "                   ^^^^^^^^^^^^^^^^^^\n",
      "  File \"/home/jon/anaconda3/lib/python3.11/site-packages/threadpoolctl.py\", line 646, in get_version\n",
      "    config = get_config().split()\n",
      "             ^^^^^^^^^^^^^^^^^^\n",
      "AttributeError: 'NoneType' object has no attribute 'split'\n",
      "Exception ignored on calling ctypes callback function: <function _ThreadpoolInfo._find_modules_with_dl_iterate_phdr.<locals>.match_module_callback at 0x7f0e957bda80>\n",
      "Traceback (most recent call last):\n",
      "  File \"/home/jon/anaconda3/lib/python3.11/site-packages/threadpoolctl.py\", line 400, in match_module_callback\n",
      "    self._make_module_from_path(filepath)\n",
      "  File \"/home/jon/anaconda3/lib/python3.11/site-packages/threadpoolctl.py\", line 515, in _make_module_from_path\n",
      "    module = module_class(filepath, prefix, user_api, internal_api)\n",
      "             ^^^^^^^^^^^^^^^^^^^^^^^^^^^^^^^^^^^^^^^^^^^^^^^^^^^^^^\n",
      "  File \"/home/jon/anaconda3/lib/python3.11/site-packages/threadpoolctl.py\", line 606, in __init__\n",
      "    self.version = self.get_version()\n",
      "                   ^^^^^^^^^^^^^^^^^^\n",
      "  File \"/home/jon/anaconda3/lib/python3.11/site-packages/threadpoolctl.py\", line 646, in get_version\n",
      "    config = get_config().split()\n",
      "             ^^^^^^^^^^^^^^^^^^\n",
      "AttributeError: 'NoneType' object has no attribute 'split'\n",
      "Exception ignored on calling ctypes callback function: <function _ThreadpoolInfo._find_modules_with_dl_iterate_phdr.<locals>.match_module_callback at 0x7f0e96658540>\n",
      "Traceback (most recent call last):\n",
      "  File \"/home/jon/anaconda3/lib/python3.11/site-packages/threadpoolctl.py\", line 400, in match_module_callback\n",
      "    self._make_module_from_path(filepath)\n",
      "  File \"/home/jon/anaconda3/lib/python3.11/site-packages/threadpoolctl.py\", line 515, in _make_module_from_path\n",
      "    module = module_class(filepath, prefix, user_api, internal_api)\n",
      "             ^^^^^^^^^^^^^^^^^^^^^^^^^^^^^^^^^^^^^^^^^^^^^^^^^^^^^^\n",
      "  File \"/home/jon/anaconda3/lib/python3.11/site-packages/threadpoolctl.py\", line 606, in __init__\n",
      "    self.version = self.get_version()\n",
      "                   ^^^^^^^^^^^^^^^^^^\n",
      "  File \"/home/jon/anaconda3/lib/python3.11/site-packages/threadpoolctl.py\", line 646, in get_version\n",
      "    config = get_config().split()\n",
      "             ^^^^^^^^^^^^^^^^^^\n",
      "AttributeError: 'NoneType' object has no attribute 'split'\n",
      "Exception ignored on calling ctypes callback function: <function _ThreadpoolInfo._find_modules_with_dl_iterate_phdr.<locals>.match_module_callback at 0x7f0e96658540>\n",
      "Traceback (most recent call last):\n",
      "  File \"/home/jon/anaconda3/lib/python3.11/site-packages/threadpoolctl.py\", line 400, in match_module_callback\n",
      "    self._make_module_from_path(filepath)\n",
      "  File \"/home/jon/anaconda3/lib/python3.11/site-packages/threadpoolctl.py\", line 515, in _make_module_from_path\n",
      "    module = module_class(filepath, prefix, user_api, internal_api)\n",
      "             ^^^^^^^^^^^^^^^^^^^^^^^^^^^^^^^^^^^^^^^^^^^^^^^^^^^^^^\n",
      "  File \"/home/jon/anaconda3/lib/python3.11/site-packages/threadpoolctl.py\", line 606, in __init__\n",
      "    self.version = self.get_version()\n",
      "                   ^^^^^^^^^^^^^^^^^^\n",
      "  File \"/home/jon/anaconda3/lib/python3.11/site-packages/threadpoolctl.py\", line 646, in get_version\n",
      "    config = get_config().split()\n",
      "             ^^^^^^^^^^^^^^^^^^\n",
      "AttributeError: 'NoneType' object has no attribute 'split'\n",
      "Exception ignored on calling ctypes callback function: <function _ThreadpoolInfo._find_modules_with_dl_iterate_phdr.<locals>.match_module_callback at 0x7f0e957bda80>\n",
      "Traceback (most recent call last):\n",
      "  File \"/home/jon/anaconda3/lib/python3.11/site-packages/threadpoolctl.py\", line 400, in match_module_callback\n",
      "    self._make_module_from_path(filepath)\n",
      "  File \"/home/jon/anaconda3/lib/python3.11/site-packages/threadpoolctl.py\", line 515, in _make_module_from_path\n",
      "    module = module_class(filepath, prefix, user_api, internal_api)\n",
      "             ^^^^^^^^^^^^^^^^^^^^^^^^^^^^^^^^^^^^^^^^^^^^^^^^^^^^^^\n",
      "  File \"/home/jon/anaconda3/lib/python3.11/site-packages/threadpoolctl.py\", line 606, in __init__\n",
      "    self.version = self.get_version()\n",
      "                   ^^^^^^^^^^^^^^^^^^\n",
      "  File \"/home/jon/anaconda3/lib/python3.11/site-packages/threadpoolctl.py\", line 646, in get_version\n",
      "    config = get_config().split()\n",
      "             ^^^^^^^^^^^^^^^^^^\n",
      "AttributeError: 'NoneType' object has no attribute 'split'\n",
      "Exception ignored on calling ctypes callback function: <function _ThreadpoolInfo._find_modules_with_dl_iterate_phdr.<locals>.match_module_callback at 0x7f0e957bda80>\n",
      "Traceback (most recent call last):\n",
      "  File \"/home/jon/anaconda3/lib/python3.11/site-packages/threadpoolctl.py\", line 400, in match_module_callback\n",
      "    self._make_module_from_path(filepath)\n",
      "  File \"/home/jon/anaconda3/lib/python3.11/site-packages/threadpoolctl.py\", line 515, in _make_module_from_path\n",
      "    module = module_class(filepath, prefix, user_api, internal_api)\n",
      "             ^^^^^^^^^^^^^^^^^^^^^^^^^^^^^^^^^^^^^^^^^^^^^^^^^^^^^^\n",
      "  File \"/home/jon/anaconda3/lib/python3.11/site-packages/threadpoolctl.py\", line 606, in __init__\n",
      "    self.version = self.get_version()\n",
      "                   ^^^^^^^^^^^^^^^^^^\n",
      "  File \"/home/jon/anaconda3/lib/python3.11/site-packages/threadpoolctl.py\", line 646, in get_version\n",
      "    config = get_config().split()\n",
      "             ^^^^^^^^^^^^^^^^^^\n",
      "AttributeError: 'NoneType' object has no attribute 'split'\n",
      "Exception ignored on calling ctypes callback function: <function _ThreadpoolInfo._find_modules_with_dl_iterate_phdr.<locals>.match_module_callback at 0x7f0e96658540>\n",
      "Traceback (most recent call last):\n",
      "  File \"/home/jon/anaconda3/lib/python3.11/site-packages/threadpoolctl.py\", line 400, in match_module_callback\n",
      "    self._make_module_from_path(filepath)\n",
      "  File \"/home/jon/anaconda3/lib/python3.11/site-packages/threadpoolctl.py\", line 515, in _make_module_from_path\n",
      "    module = module_class(filepath, prefix, user_api, internal_api)\n",
      "             ^^^^^^^^^^^^^^^^^^^^^^^^^^^^^^^^^^^^^^^^^^^^^^^^^^^^^^\n",
      "  File \"/home/jon/anaconda3/lib/python3.11/site-packages/threadpoolctl.py\", line 606, in __init__\n",
      "    self.version = self.get_version()\n",
      "                   ^^^^^^^^^^^^^^^^^^\n",
      "  File \"/home/jon/anaconda3/lib/python3.11/site-packages/threadpoolctl.py\", line 646, in get_version\n",
      "    config = get_config().split()\n",
      "             ^^^^^^^^^^^^^^^^^^\n",
      "AttributeError: 'NoneType' object has no attribute 'split'\n",
      "Exception ignored on calling ctypes callback function: <function _ThreadpoolInfo._find_modules_with_dl_iterate_phdr.<locals>.match_module_callback at 0x7f0e96658540>\n",
      "Traceback (most recent call last):\n",
      "  File \"/home/jon/anaconda3/lib/python3.11/site-packages/threadpoolctl.py\", line 400, in match_module_callback\n",
      "    self._make_module_from_path(filepath)\n",
      "  File \"/home/jon/anaconda3/lib/python3.11/site-packages/threadpoolctl.py\", line 515, in _make_module_from_path\n",
      "    module = module_class(filepath, prefix, user_api, internal_api)\n",
      "             ^^^^^^^^^^^^^^^^^^^^^^^^^^^^^^^^^^^^^^^^^^^^^^^^^^^^^^\n",
      "  File \"/home/jon/anaconda3/lib/python3.11/site-packages/threadpoolctl.py\", line 606, in __init__\n",
      "    self.version = self.get_version()\n",
      "                   ^^^^^^^^^^^^^^^^^^\n",
      "  File \"/home/jon/anaconda3/lib/python3.11/site-packages/threadpoolctl.py\", line 646, in get_version\n",
      "    config = get_config().split()\n",
      "             ^^^^^^^^^^^^^^^^^^\n",
      "AttributeError: 'NoneType' object has no attribute 'split'\n"
     ]
    },
    {
     "name": "stderr",
     "output_type": "stream",
     "text": [
      "Exception ignored on calling ctypes callback function: <function _ThreadpoolInfo._find_modules_with_dl_iterate_phdr.<locals>.match_module_callback at 0x7f0e96658540>\n",
      "Traceback (most recent call last):\n",
      "  File \"/home/jon/anaconda3/lib/python3.11/site-packages/threadpoolctl.py\", line 400, in match_module_callback\n",
      "    self._make_module_from_path(filepath)\n",
      "  File \"/home/jon/anaconda3/lib/python3.11/site-packages/threadpoolctl.py\", line 515, in _make_module_from_path\n",
      "    module = module_class(filepath, prefix, user_api, internal_api)\n",
      "             ^^^^^^^^^^^^^^^^^^^^^^^^^^^^^^^^^^^^^^^^^^^^^^^^^^^^^^\n",
      "  File \"/home/jon/anaconda3/lib/python3.11/site-packages/threadpoolctl.py\", line 606, in __init__\n",
      "    self.version = self.get_version()\n",
      "                   ^^^^^^^^^^^^^^^^^^\n",
      "  File \"/home/jon/anaconda3/lib/python3.11/site-packages/threadpoolctl.py\", line 646, in get_version\n",
      "    config = get_config().split()\n",
      "             ^^^^^^^^^^^^^^^^^^\n",
      "AttributeError: 'NoneType' object has no attribute 'split'\n",
      "Exception ignored on calling ctypes callback function: <function _ThreadpoolInfo._find_modules_with_dl_iterate_phdr.<locals>.match_module_callback at 0x7f0e96658540>\n",
      "Traceback (most recent call last):\n",
      "  File \"/home/jon/anaconda3/lib/python3.11/site-packages/threadpoolctl.py\", line 400, in match_module_callback\n",
      "    self._make_module_from_path(filepath)\n",
      "  File \"/home/jon/anaconda3/lib/python3.11/site-packages/threadpoolctl.py\", line 515, in _make_module_from_path\n",
      "    module = module_class(filepath, prefix, user_api, internal_api)\n",
      "             ^^^^^^^^^^^^^^^^^^^^^^^^^^^^^^^^^^^^^^^^^^^^^^^^^^^^^^\n",
      "  File \"/home/jon/anaconda3/lib/python3.11/site-packages/threadpoolctl.py\", line 606, in __init__\n",
      "    self.version = self.get_version()\n",
      "                   ^^^^^^^^^^^^^^^^^^\n",
      "  File \"/home/jon/anaconda3/lib/python3.11/site-packages/threadpoolctl.py\", line 646, in get_version\n",
      "    config = get_config().split()\n",
      "             ^^^^^^^^^^^^^^^^^^\n",
      "AttributeError: 'NoneType' object has no attribute 'split'\n"
     ]
    }
   ],
   "source": [
    "#Performing the clustering\n",
    "kmeans = KMeans(n_clusters = 3, random_state=1)\n",
    "clusters = kmeans.fit_predict(scaled_data)\n",
    "\n",
    "# Add cluster labels to PCA Dataframe\n",
    "pca_df['cluster'] = clusters"
   ]
  },
  {
   "cell_type": "code",
   "execution_count": 148,
   "id": "7c6d2b6c",
   "metadata": {},
   "outputs": [
    {
     "data": {
      "text/plain": [
       "cluster\n",
       "0    29135\n",
       "1        4\n",
       "2        2\n",
       "Name: count, dtype: int64"
      ]
     },
     "execution_count": 148,
     "metadata": {},
     "output_type": "execute_result"
    }
   ],
   "source": [
    "pca_df['cluster'].value_counts()"
   ]
  },
  {
   "cell_type": "code",
   "execution_count": 136,
   "id": "9be53f8b",
   "metadata": {
    "scrolled": true
   },
   "outputs": [
    {
     "data": {
      "text/plain": [
       "array([[-0.03445359, -0.04381222, -0.03511998, ..., -0.04128182,\n",
       "        -0.03131499, -0.03089612],\n",
       "       [-0.02884146, -0.03199255, -0.03253594, ...,  0.20138295,\n",
       "        -0.02560111, -0.030066  ],\n",
       "       [-0.03263913, -0.04381222, -0.03511998, ..., -0.03869641,\n",
       "        -0.02885062, -0.02758227],\n",
       "       ...,\n",
       "       [-0.03445359, -0.04381222, -0.03511998, ..., -0.04128182,\n",
       "        -0.03213454, -0.03089612],\n",
       "       [-0.03445359, -0.04381222, -0.03511998, ...,  0.41436001,\n",
       "         0.1141472 , -0.03089612],\n",
       "       [-0.0308156 , -0.03893474, -0.03511998, ..., -0.03611099,\n",
       "        -0.03213454, -0.03089612]])"
      ]
     },
     "execution_count": 136,
     "metadata": {},
     "output_type": "execute_result"
    }
   ],
   "source": [
    "scaled_data"
   ]
  },
  {
   "cell_type": "markdown",
   "id": "57299474",
   "metadata": {},
   "source": [
    "# Cleaning Data"
   ]
  },
  {
   "cell_type": "markdown",
   "id": "b86fede3",
   "metadata": {},
   "source": [
    "## Duplicates"
   ]
  },
  {
   "cell_type": "code",
   "execution_count": 81,
   "id": "848e8742",
   "metadata": {},
   "outputs": [],
   "source": [
    "\n",
    "ctMatrix['zero'] = 0 \n",
    "ctMatrix['zero1'] = 0 \n",
    "ctMatrix = ctMatrix.rename(columns={'zero1':\"zero\"})"
   ]
  },
  {
   "cell_type": "code",
   "execution_count": 82,
   "id": "6ee6b5f7",
   "metadata": {},
   "outputs": [
    {
     "data": {
      "text/plain": [
       "(40605, 659)"
      ]
     },
     "execution_count": 82,
     "metadata": {},
     "output_type": "execute_result"
    }
   ],
   "source": [
    "ctMatrix.shape"
   ]
  },
  {
   "cell_type": "code",
   "execution_count": 83,
   "id": "2130e6ac",
   "metadata": {},
   "outputs": [],
   "source": [
    "ctMatrix = ctMatrix.loc[:,~ctMatrix.columns.duplicated(keep=False)]"
   ]
  },
  {
   "cell_type": "code",
   "execution_count": 84,
   "id": "64e01f87",
   "metadata": {},
   "outputs": [
    {
     "data": {
      "text/plain": [
       "(40605, 657)"
      ]
     },
     "execution_count": 84,
     "metadata": {},
     "output_type": "execute_result"
    }
   ],
   "source": [
    "ctMatrix.shape"
   ]
  },
  {
   "cell_type": "code",
   "execution_count": null,
   "id": "e6a6b385",
   "metadata": {},
   "outputs": [],
   "source": []
  },
  {
   "cell_type": "markdown",
   "id": "9a474ee6",
   "metadata": {},
   "source": [
    "# Cleaning Data"
   ]
  },
  {
   "cell_type": "markdown",
   "id": "fb1079a9",
   "metadata": {},
   "source": [
    "### Dealing with duplicates"
   ]
  },
  {
   "cell_type": "code",
   "execution_count": 90,
   "id": "665c9576",
   "metadata": {},
   "outputs": [
    {
     "data": {
      "text/plain": [
       "Index([], dtype='object')"
      ]
     },
     "execution_count": 90,
     "metadata": {},
     "output_type": "execute_result"
    }
   ],
   "source": [
    "#Identifying any duplicate columns or rows\n",
    "ctMatrix.index[ctMatrix.index.duplicated()]\n",
    "ctMatrix.columns[ctMatrix.columns.duplicated()]\n",
    "#Removing duplicates\n",
    "#ctMatrix = ctMatrix.loc[:,~ctMatrix.columns.duplicated(keep=False)]"
   ]
  },
  {
   "cell_type": "markdown",
   "id": "b2c063af",
   "metadata": {},
   "source": [
    "## Dealing with sparcity"
   ]
  },
  {
   "cell_type": "code",
   "execution_count": 157,
   "id": "11c6c8e4",
   "metadata": {},
   "outputs": [],
   "source": [
    "#Generating NA's\n",
    "ctMatrix_zeros = ctMatrix.replace(0, value = np.nan, inplace=False)"
   ]
  },
  {
   "cell_type": "code",
   "execution_count": 158,
   "id": "ba51f977",
   "metadata": {},
   "outputs": [
    {
     "name": "stdout",
     "output_type": "stream",
     "text": [
      "<class 'pandas.core.frame.DataFrame'>\n",
      "Index: 40605 entries, TSPAN6 to ADIPINT\n",
      "Columns: 656 entries, 073A01 to 090P23\n",
      "dtypes: float64(656)\n",
      "memory usage: 203.5+ MB\n"
     ]
    }
   ],
   "source": [
    "ctMatrix.info(show_counts=True)"
   ]
  },
  {
   "cell_type": "code",
   "execution_count": 159,
   "id": "19b92856",
   "metadata": {},
   "outputs": [
    {
     "name": "stdout",
     "output_type": "stream",
     "text": [
      "<class 'pandas.core.frame.DataFrame'>\n",
      "Index: 40605 entries, TSPAN6 to ADIPINT\n",
      "Columns: 656 entries, 073A01 to 090P23\n",
      "dtypes: float64(656)\n",
      "memory usage: 203.5+ MB\n"
     ]
    }
   ],
   "source": [
    "ctMatrix_zeros.info(show_counts=True)"
   ]
  },
  {
   "cell_type": "code",
   "execution_count": 160,
   "id": "313f6e37",
   "metadata": {},
   "outputs": [
    {
     "data": {
      "text/plain": [
       "656"
      ]
     },
     "execution_count": 160,
     "metadata": {},
     "output_type": "execute_result"
    }
   ],
   "source": [
    "ctMatrix_zeros.isna().any().sum()"
   ]
  },
  {
   "cell_type": "code",
   "execution_count": 102,
   "id": "19d615df",
   "metadata": {},
   "outputs": [
    {
     "data": {
      "text/plain": [
       "<Axes: >"
      ]
     },
     "execution_count": 102,
     "metadata": {},
     "output_type": "execute_result"
    },
    {
     "data": {
      "image/png": "[encoded data removed]",
      "text/plain": [
       "<Figure size 640x480 with 2 Axes>"
      ]
     },
     "metadata": {},
     "output_type": "display_data"
    }
   ],
   "source": [
    "sns.heatmap(ctMatrix_zeros.isna(), cmap='viridis')"
   ]
  },
  {
   "cell_type": "markdown",
   "id": "bbbe88cf",
   "metadata": {},
   "source": [
    "# Sparsity of Data"
   ]
  },
  {
   "cell_type": "code",
   "execution_count": 133,
   "id": "1e6ffd54",
   "metadata": {
    "scrolled": true
   },
   "outputs": [
    {
     "data": {
      "text/plain": [
       "073A01    32427\n",
       "073A02    33014\n",
       "073A03    32996\n",
       "073A04    32758\n",
       "073A06    32841\n",
       "          ...  \n",
       "090P19    34040\n",
       "090P20    32413\n",
       "090P21    33702\n",
       "090P22    32880\n",
       "090P23    33945\n",
       "Length: 656, dtype: int64"
      ]
     },
     "execution_count": 133,
     "metadata": {},
     "output_type": "execute_result"
    }
   ],
   "source": [
    "(ctMatrix==0).sum()"
   ]
  },
  {
   "cell_type": "code",
   "execution_count": 134,
   "id": "153ced3b",
   "metadata": {},
   "outputs": [
    {
     "data": {
      "text/plain": [
       "26636880"
      ]
     },
     "execution_count": 134,
     "metadata": {},
     "output_type": "execute_result"
    }
   ],
   "source": [
    "ctMatrix.size"
   ]
  },
  {
   "cell_type": "code",
   "execution_count": 119,
   "id": "9c392e3d",
   "metadata": {},
   "outputs": [
    {
     "data": {
      "text/plain": [
       "0.8275759773667186"
      ]
     },
     "execution_count": 119,
     "metadata": {},
     "output_type": "execute_result"
    }
   ],
   "source": [
    "# sums all the 0s in each column, then all the 0's in all columns\n",
    "# Divided\n",
    "(ctMatrix == 0).sum().sum() / ctMatrix.size"
   ]
  },
  {
   "cell_type": "code",
   "execution_count": 120,
   "id": "18858d30",
   "metadata": {},
   "outputs": [],
   "source": [
    "col_names = ctMatrix.columns\n",
    "index_names = ctMatrix.index"
   ]
  },
  {
   "cell_type": "code",
   "execution_count": 125,
   "id": "40069df6",
   "metadata": {},
   "outputs": [
    {
     "data": {
      "text/plain": [
       "Index(['073A01', '073A02', '073A03', '073A04', '073A06'], dtype='object')"
      ]
     },
     "execution_count": 125,
     "metadata": {},
     "output_type": "execute_result"
    }
   ],
   "source": [
    "col_names[0:5]"
   ]
  },
  {
   "cell_type": "code",
   "execution_count": 126,
   "id": "9e244f45",
   "metadata": {
    "scrolled": true
   },
   "outputs": [
    {
     "data": {
      "text/plain": [
       "Index(['TSPAN6', 'TNMD', 'DPM1', 'SCYL3', 'C1orf112'], dtype='object')"
      ]
     },
     "execution_count": 126,
     "metadata": {},
     "output_type": "execute_result"
    }
   ],
   "source": [
    "index_names[0:5]"
   ]
  },
  {
   "cell_type": "markdown",
   "id": "9b0e0852",
   "metadata": {},
   "source": [
    "### Removing highly sparse columns"
   ]
  },
  {
   "cell_type": "code",
   "execution_count": 135,
   "id": "beeea254",
   "metadata": {},
   "outputs": [
    {
     "data": {
      "text/plain": [
       "(40605, 656)"
      ]
     },
     "execution_count": 135,
     "metadata": {},
     "output_type": "execute_result"
    }
   ],
   "source": [
    "ctMatrix.shape"
   ]
  },
  {
   "cell_type": "code",
   "execution_count": 152,
   "id": "304c0a86",
   "metadata": {},
   "outputs": [
    {
     "data": {
      "text/plain": [
       "073A01    0.798596\n",
       "073A02    0.813053\n",
       "073A03    0.812609\n",
       "073A04    0.806748\n",
       "073A06    0.808792\n",
       "            ...   \n",
       "090P19    0.838320\n",
       "090P20    0.798251\n",
       "090P21    0.829996\n",
       "090P22    0.809752\n",
       "090P23    0.835981\n",
       "Length: 656, dtype: float64"
      ]
     },
     "execution_count": 152,
     "metadata": {},
     "output_type": "execute_result"
    }
   ],
   "source": [
    "#boolean dataframe\n",
    "# mean is true + true + false = 1 + 1 + 0 = 3\n",
    "# divided 2/3 ~= 33%\n",
    "(ctMatrix == 0).mean()\n"
   ]
  },
  {
   "cell_type": "code",
   "execution_count": 149,
   "id": "0281022b",
   "metadata": {},
   "outputs": [
    {
     "ename": "ValueError",
     "evalue": "Cannot index with multidimensional key",
     "output_type": "error",
     "traceback": [
      "\u001b[0;31m---------------------------------------------------------------------------\u001b[0m",
      "\u001b[0;31mValueError\u001b[0m                                Traceback (most recent call last)",
      "Cell \u001b[0;32mIn[149], line 1\u001b[0m\n\u001b[0;32m----> 1\u001b[0m ct_matrix\u001b[38;5;241m.\u001b[39mloc[:, (ct_matrix \u001b[38;5;241m==\u001b[39m \u001b[38;5;241m0\u001b[39m)]\n",
      "File \u001b[0;32m~/anaconda3/lib/python3.11/site-packages/pandas/core/indexing.py:1184\u001b[0m, in \u001b[0;36m_LocationIndexer.__getitem__\u001b[0;34m(self, key)\u001b[0m\n\u001b[1;32m   1182\u001b[0m     \u001b[38;5;28;01mif\u001b[39;00m \u001b[38;5;28mself\u001b[39m\u001b[38;5;241m.\u001b[39m_is_scalar_access(key):\n\u001b[1;32m   1183\u001b[0m         \u001b[38;5;28;01mreturn\u001b[39;00m \u001b[38;5;28mself\u001b[39m\u001b[38;5;241m.\u001b[39mobj\u001b[38;5;241m.\u001b[39m_get_value(\u001b[38;5;241m*\u001b[39mkey, takeable\u001b[38;5;241m=\u001b[39m\u001b[38;5;28mself\u001b[39m\u001b[38;5;241m.\u001b[39m_takeable)\n\u001b[0;32m-> 1184\u001b[0m     \u001b[38;5;28;01mreturn\u001b[39;00m \u001b[38;5;28mself\u001b[39m\u001b[38;5;241m.\u001b[39m_getitem_tuple(key)\n\u001b[1;32m   1185\u001b[0m \u001b[38;5;28;01melse\u001b[39;00m:\n\u001b[1;32m   1186\u001b[0m     \u001b[38;5;66;03m# we by definition only have the 0th axis\u001b[39;00m\n\u001b[1;32m   1187\u001b[0m     axis \u001b[38;5;241m=\u001b[39m \u001b[38;5;28mself\u001b[39m\u001b[38;5;241m.\u001b[39maxis \u001b[38;5;129;01mor\u001b[39;00m \u001b[38;5;241m0\u001b[39m\n",
      "File \u001b[0;32m~/anaconda3/lib/python3.11/site-packages/pandas/core/indexing.py:1377\u001b[0m, in \u001b[0;36m_LocIndexer._getitem_tuple\u001b[0;34m(self, tup)\u001b[0m\n\u001b[1;32m   1374\u001b[0m \u001b[38;5;28;01mif\u001b[39;00m \u001b[38;5;28mself\u001b[39m\u001b[38;5;241m.\u001b[39m_multi_take_opportunity(tup):\n\u001b[1;32m   1375\u001b[0m     \u001b[38;5;28;01mreturn\u001b[39;00m \u001b[38;5;28mself\u001b[39m\u001b[38;5;241m.\u001b[39m_multi_take(tup)\n\u001b[0;32m-> 1377\u001b[0m \u001b[38;5;28;01mreturn\u001b[39;00m \u001b[38;5;28mself\u001b[39m\u001b[38;5;241m.\u001b[39m_getitem_tuple_same_dim(tup)\n",
      "File \u001b[0;32m~/anaconda3/lib/python3.11/site-packages/pandas/core/indexing.py:1020\u001b[0m, in \u001b[0;36m_LocationIndexer._getitem_tuple_same_dim\u001b[0;34m(self, tup)\u001b[0m\n\u001b[1;32m   1017\u001b[0m \u001b[38;5;28;01mif\u001b[39;00m com\u001b[38;5;241m.\u001b[39mis_null_slice(key):\n\u001b[1;32m   1018\u001b[0m     \u001b[38;5;28;01mcontinue\u001b[39;00m\n\u001b[0;32m-> 1020\u001b[0m retval \u001b[38;5;241m=\u001b[39m \u001b[38;5;28mgetattr\u001b[39m(retval, \u001b[38;5;28mself\u001b[39m\u001b[38;5;241m.\u001b[39mname)\u001b[38;5;241m.\u001b[39m_getitem_axis(key, axis\u001b[38;5;241m=\u001b[39mi)\n\u001b[1;32m   1021\u001b[0m \u001b[38;5;66;03m# We should never have retval.ndim < self.ndim, as that should\u001b[39;00m\n\u001b[1;32m   1022\u001b[0m \u001b[38;5;66;03m#  be handled by the _getitem_lowerdim call above.\u001b[39;00m\n\u001b[1;32m   1023\u001b[0m \u001b[38;5;28;01massert\u001b[39;00m retval\u001b[38;5;241m.\u001b[39mndim \u001b[38;5;241m==\u001b[39m \u001b[38;5;28mself\u001b[39m\u001b[38;5;241m.\u001b[39mndim\n",
      "File \u001b[0;32m~/anaconda3/lib/python3.11/site-packages/pandas/core/indexing.py:1418\u001b[0m, in \u001b[0;36m_LocIndexer._getitem_axis\u001b[0;34m(self, key, axis)\u001b[0m\n\u001b[1;32m   1416\u001b[0m \u001b[38;5;28;01mif\u001b[39;00m \u001b[38;5;129;01mnot\u001b[39;00m (\u001b[38;5;28misinstance\u001b[39m(key, \u001b[38;5;28mtuple\u001b[39m) \u001b[38;5;129;01mand\u001b[39;00m \u001b[38;5;28misinstance\u001b[39m(labels, MultiIndex)):\n\u001b[1;32m   1417\u001b[0m     \u001b[38;5;28;01mif\u001b[39;00m \u001b[38;5;28mhasattr\u001b[39m(key, \u001b[38;5;124m\"\u001b[39m\u001b[38;5;124mndim\u001b[39m\u001b[38;5;124m\"\u001b[39m) \u001b[38;5;129;01mand\u001b[39;00m key\u001b[38;5;241m.\u001b[39mndim \u001b[38;5;241m>\u001b[39m \u001b[38;5;241m1\u001b[39m:\n\u001b[0;32m-> 1418\u001b[0m         \u001b[38;5;28;01mraise\u001b[39;00m \u001b[38;5;167;01mValueError\u001b[39;00m(\u001b[38;5;124m\"\u001b[39m\u001b[38;5;124mCannot index with multidimensional key\u001b[39m\u001b[38;5;124m\"\u001b[39m)\n\u001b[1;32m   1420\u001b[0m     \u001b[38;5;28;01mreturn\u001b[39;00m \u001b[38;5;28mself\u001b[39m\u001b[38;5;241m.\u001b[39m_getitem_iterable(key, axis\u001b[38;5;241m=\u001b[39maxis)\n\u001b[1;32m   1422\u001b[0m \u001b[38;5;66;03m# nested tuple slicing\u001b[39;00m\n",
      "\u001b[0;31mValueError\u001b[0m: Cannot index with multidimensional key"
     ]
    }
   ],
   "source": [
    "ctMatrix.loc[:, (ctMatrix == 0)]"
   ]
  },
  {
   "cell_type": "code",
   "execution_count": null,
   "id": "4bcce1e8",
   "metadata": {},
   "outputs": [],
   "source": [
    "import pandas as pd\n",
    "import numpy as np\n",
    "from sklearn.decomposition import PCA\n",
    "from sklearn.preprocessing import StandardScaler\n",
    "from scipy import sparse\n",
    "\n",
    "# Sample DataFrame with sparse data\n",
    "df = pd.DataFrame({\n",
    "    'A': [0, 2, 0, 4],\n",
    "    'B': [0, 0, 7, 8],\n",
    "    'C': [0, 10, 0, 0]\n",
    "})\n",
    "\n",
    "# Calculate sparsity\n",
    "sparsity = (df == 0).sum().sum() / df.size\n",
    "print(f\"Sparsity: {sparsity:.2f}\")\n",
    "\n",
    "# Remove columns with more than 50% zeros\n",
    "threshold = 0.5\n",
    "df = df.loc[:, (df == 0).mean() < threshold]\n",
    "\n",
    "# Fill missing values (zeros) with the mean of each column\n",
    "df.replace(0, np.nan, inplace=True)\n",
    "df.fillna(df.mean(), inplace=True)\n",
    "\n",
    "# Normalize data\n",
    "scaler = StandardScaler()\n",
    "normalized_data = scaler.fit_transform(df)\n",
    "\n",
    "# Perform PCA on the data\n",
    "pca = PCA(n_components=2)\n",
    "reduced_data = pca.fit_transform(normalized_data)\n",
    "\n",
    "# Convert DataFrame to sparse format\n",
    "sparse_df = df.astype(pd.SparseDtype(\"float\", np.nan))\n",
    "\n",
    "# Convert DataFrame to a sparse matrix\n",
    "sparse_matrix = sparse.csr_matrix(df.fillna(0).values)\n",
    "\n",
    "print(\"Sparse DataFrame:\\n\", sparse_df)\n",
    "print(\"Reduced Data after PCA:\\n\", reduced_data)\n",
    "print(\"Sparse Matrix:\\n\", sparse_matrix)"
   ]
  },
  {
   "cell_type": "code",
   "execution_count": null,
   "id": "6b2671e2",
   "metadata": {},
   "outputs": [],
   "source": []
  },
  {
   "cell_type": "markdown",
   "id": "27427425",
   "metadata": {},
   "source": [
    "# Testing in small dataset"
   ]
  },
  {
   "cell_type": "code",
   "execution_count": 128,
   "id": "84b57afd",
   "metadata": {},
   "outputs": [],
   "source": [
    "data = {\n",
    "    'A': [0, 1, 2, 3, 4],\n",
    "    'B': [5, 6, 7, 8, 9],\n",
    "    'C': [10, 11, 12, 13, 14],\n",
    "    'D': [15, 16, 17, 18, 19]\n",
    "}\n",
    "\n",
    "df = pd.DataFrame(data)"
   ]
  },
  {
   "cell_type": "code",
   "execution_count": 130,
   "id": "03680cbf",
   "metadata": {},
   "outputs": [
    {
     "data": {
      "text/html": [
       "<div>\n",
       "<style scoped>\n",
       "    .dataframe tbody tr th:only-of-type {\n",
       "        vertical-align: middle;\n",
       "    }\n",
       "\n",
       "    .dataframe tbody tr th {\n",
       "        vertical-align: top;\n",
       "    }\n",
       "\n",
       "    .dataframe thead th {\n",
       "        text-align: right;\n",
       "    }\n",
       "</style>\n",
       "<table border=\"1\" class=\"dataframe\">\n",
       "  <thead>\n",
       "    <tr style=\"text-align: right;\">\n",
       "      <th></th>\n",
       "      <th>A</th>\n",
       "      <th>B</th>\n",
       "    </tr>\n",
       "  </thead>\n",
       "  <tbody>\n",
       "    <tr>\n",
       "      <th>0</th>\n",
       "      <td>0</td>\n",
       "      <td>5</td>\n",
       "    </tr>\n",
       "    <tr>\n",
       "      <th>1</th>\n",
       "      <td>1</td>\n",
       "      <td>6</td>\n",
       "    </tr>\n",
       "    <tr>\n",
       "      <th>2</th>\n",
       "      <td>2</td>\n",
       "      <td>7</td>\n",
       "    </tr>\n",
       "    <tr>\n",
       "      <th>3</th>\n",
       "      <td>3</td>\n",
       "      <td>8</td>\n",
       "    </tr>\n",
       "    <tr>\n",
       "      <th>4</th>\n",
       "      <td>4</td>\n",
       "      <td>9</td>\n",
       "    </tr>\n",
       "  </tbody>\n",
       "</table>\n",
       "</div>"
      ],
      "text/plain": [
       "   A  B\n",
       "0  0  5\n",
       "1  1  6\n",
       "2  2  7\n",
       "3  3  8\n",
       "4  4  9"
      ]
     },
     "execution_count": 130,
     "metadata": {},
     "output_type": "execute_result"
    }
   ],
   "source": [
    "df.loc[:, ['A','B']]"
   ]
  }
 ],
 "metadata": {
  "kernelspec": {
   "display_name": "Python 3 (ipykernel)",
   "language": "python",
   "name": "python3"
  },
  "language_info": {
   "codemirror_mode": {
    "name": "ipython",
    "version": 3
   },
   "file_extension": ".py",
   "mimetype": "text/x-python",
   "name": "python",
   "nbconvert_exporter": "python",
   "pygments_lexer": "ipython3",
   "version": "3.11.5"
  }
 },
 "nbformat": 4,
 "nbformat_minor": 5
}
