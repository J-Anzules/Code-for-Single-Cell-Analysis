{
 "cells": [
  {
   "cell_type": "markdown",
   "metadata": {},
   "source": [
    "# Models, Simulations, Programming in Python\n",
    "\n",
    "What are models?\n",
    "- Generally: a simplified representation of a system or phenomenon, used by people to understand and/or engineer the parts which are important to us.\n",
    "- Types of models:\n",
    "    - Physical models: a small scale reconstruction of a large structure, to help understand all the components and interrelations. \n",
    "    - Biological models: using biological systems to represent a broader biological phenomenon. <br> For example, human cancer can be studied in a mouse with induced cancer for the purpose of therapeutic discovery. Ecoli as a model of bacteria more generally.\n",
    "    - Mathematical model: using formal/mathematical equations to represent the system. Functions, with dependent and independent variables, represent the relationship between those variables and how the co-vary.\n",
    "    - Computational model: has algorithms that operate on a model to solve it. Because computers are fast and precise, this lets us solve much bigger problems.\n",
    "\n",
    "What are simulations?\n",
    "- The use of a model to predict an outcome, or behavior under different conditions.\n",
    "- Changing variables in a model to see how they affect the other variables, and the system as a whole.\n",
    "- Take a scientific/experimental approach to the model.\n",
    "- This can apply to any model by changing variables/structures and studying the outcome, to learn about the real system. \n",
    "- Can simulate relative to the model's purpose-specific objective. \n",
    "\n",
    "What does it mean to program? How does it help with modeling and simulation?\n",
    "- A series of steps to acheive an outcome. Computer programs, a scheduled event, and experimental protocol?\n",
    "- For a computational model, the program is the series of algorithms that allows us to manipulate the model."
   ]
  },
  {
   "cell_type": "markdown",
   "metadata": {},
   "source": [
    "## A mathematical model of exponential population growth:\n",
    "\n",
    "$$\n",
    "\\frac{dP}{dt} = r*P\n",
    "$$\n",
    "\n",
    "- $P$ is a variable that represents a population size.\n",
    "- $t$ represents time. $dt$ is a small interval of time.\n",
    "- $\\frac{dP}{dt}$ is the change in population with respect to time. \n",
    "- $r$ is a rate of change.\n",
    "- the function is $f: (P, r) \\mapsto \\frac{dP}{dt}$"
   ]
  },
  {
   "cell_type": "markdown",
   "metadata": {},
   "source": [
    "## Define a computational function"
   ]
  },
  {
   "cell_type": "code",
   "execution_count": 29,
   "metadata": {},
   "outputs": [],
   "source": [
    "def population_growth(p, r):\n",
    "    \"\"\"\n",
    "    Population growth model\n",
    "    dt is in hours\n",
    "    \"\"\"\n",
    "    dPdt= r*p\n",
    "    return dPdt"
   ]
  },
  {
   "cell_type": "code",
   "execution_count": 30,
   "metadata": {},
   "outputs": [
    {
     "name": "stdout",
     "output_type": "stream",
     "text": [
      "dPdt = 100.0\n"
     ]
    }
   ],
   "source": [
    "P0 = 1000 #initial population\n",
    "r0 = 0.1 # growth rate\n",
    "\n",
    "# solve the equation \n",
    "dPdt = population_growth(P0, r0)\n",
    "\n",
    "# print the equation\n",
    "print(f'dPdt = {dPdt}')"
   ]
  },
  {
   "cell_type": "markdown",
   "metadata": {},
   "source": [
    "## Simulate the ODE using Euler integration\n",
    "\n",
    "Euler's method for integration is a numerical technique used to solve ordinary differential equations (ODEs), which in our case is used to describe the dynamics of a species population over time. <br> The basic idea is to start with initial populations for a specie, and then to use equations to calculate the rate of change for its population.\n",
    "\n",
    "Here's is how Euler’s integration to predict the population of a species over time.\n",
    "\n",
    "1. Choose a time step, which is a small fraction of the time scale of the problem.\n",
    "2. Choose the total time for simulation.\n",
    "3. Choose the start time for simulation.\n",
    "4. With the initial population and growth rate of the species, calculate the change in population of the specie with the equation: $f: (P, r) \\mapsto \\frac{dP}{dt}$\n",
    "5. Update the population sizes at time each time step.\n",
    "6. Repeat steps 4-5 for each time step to simulate the system over time.\n",
    "\n"
   ]
  },
  {
   "cell_type": "code",
   "execution_count": 24,
   "metadata": {},
   "outputs": [],
   "source": [
    "dt = 0.1 # this the time interval for the simulation\n",
    "total_time = 100 # this is the total time\n",
    "\n",
    "t=0 # time starts at 0\n",
    "P = 100 # initial population \n",
    "r=0.1\n",
    "\n",
    "t_history = [t]\n",
    "P_history = [P]\n",
    "while t<total_time: # conddition for a while loop, to perform an action\n",
    "    dPdt=population_growth(P,r)\n",
    "\n",
    "    # grow the growth rate\n",
    "    P += dPdt * dt\n",
    "\n",
    "    # save the history\n",
    "    P_history.append(P)\n",
    "\n",
    "    # advance the current time by dt\n",
    "    t += dt\n",
    "\n",
    "    #save the time history\n",
    "    t_history.append(t)"
   ]
  },
  {
   "cell_type": "markdown",
   "metadata": {},
   "source": [
    "## Plot the result for the visualization of results\n",
    "Here we will us matplotlib module in python "
   ]
  },
  {
   "cell_type": "code",
   "execution_count": 27,
   "metadata": {},
   "outputs": [],
   "source": [
    "import matplotlib.pyplot as plt"
   ]
  },
  {
   "cell_type": "code",
   "execution_count": 28,
   "metadata": {},
   "outputs": [
    {
     "data": {
      "text/plain": [
       "Text(0.5, 1.0, 'Population Growth Over Time')"
      ]
     },
     "execution_count": 28,
     "metadata": {},
     "output_type": "execute_result"
    },
    {
     "data": {
      "image/png": "[encoded data removed]",
      "text/plain": [
       "<Figure size 640x480 with 1 Axes>"
      ]
     },
     "metadata": {},
     "output_type": "display_data"
    }
   ],
   "source": [
    "#plot \n",
    "plt.plot(t_history, P_history)\n",
    "plt.xlabel('Time')\n",
    "plt.ylabel('Population Size')\n",
    "plt.title('Population Growth Over Time')"
   ]
  },
  {
   "cell_type": "code",
   "execution_count": null,
   "metadata": {},
   "outputs": [],
   "source": []
  }
 ],
 "metadata": {
  "kernelspec": {
   "display_name": "Python 3 (ipykernel)",
   "language": "python",
   "name": "python3"
  },
  "language_info": {
   "codemirror_mode": {
    "name": "ipython",
    "version": 3
   },
   "file_extension": ".py",
   "mimetype": "text/x-python",
   "name": "python",
   "nbconvert_exporter": "python",
   "pygments_lexer": "ipython3",
   "version": "3.11.5"
  }
 },
 "nbformat": 4,
 "nbformat_minor": 2
}
